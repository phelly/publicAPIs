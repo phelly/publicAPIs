{
 "cells": [
  {
   "cell_type": "markdown",
   "metadata": {},
   "source": [
    "# Pulling data from public APIs (without registration) - GET request"
   ]
  },
  {
   "cell_type": "code",
   "execution_count": 3,
   "metadata": {},
   "outputs": [],
   "source": [
    "# loading the packages\n",
    "# requests provides us with the capabilities of sending an HTTP request to a server\n",
    "import requests"
   ]
  },
  {
   "cell_type": "markdown",
   "metadata": {},
   "source": [
    "## Extracting data on currency exchange rates"
   ]
  },
  {
   "cell_type": "code",
   "execution_count": 4,
   "metadata": {},
   "outputs": [],
   "source": [
    "# We will use an API containing currency exchange rates as published by the European Central Bank\n",
    "# Documentation at https://exchangeratesapi.io"
   ]
  },
  {
   "cell_type": "markdown",
   "metadata": {},
   "source": [
    "### Sending a GET request"
   ]
  },
  {
   "cell_type": "code",
   "execution_count": 49,
   "metadata": {},
   "outputs": [],
   "source": [
    "# Define the base URL\n",
    "# Base URL: the part of the URL common to all requests, not containing the parameters\n",
    "base_url = \"https://api.exchangeratesapi.io/latest?access_key=a7933e2b3b05701829e98a2a6605eaa2\""
   ]
  },
  {
   "cell_type": "code",
   "execution_count": 50,
   "metadata": {},
   "outputs": [],
   "source": [
    "# We can make a GET request to this API endpoint with requests.get\n",
    "response = requests.get(base_url)\n",
    "\n",
    "# This method returns the response from the server\n",
    "# We store this response in a variable for future processing"
   ]
  },
  {
   "cell_type": "markdown",
   "metadata": {},
   "source": [
    "### Investigating the response"
   ]
  },
  {
   "cell_type": "code",
   "execution_count": 51,
   "metadata": {},
   "outputs": [
    {
     "data": {
      "text/plain": [
       "True"
      ]
     },
     "execution_count": 51,
     "metadata": {},
     "output_type": "execute_result"
    }
   ],
   "source": [
    "# Checking if the request went through ok\n",
    "response.ok"
   ]
  },
  {
   "cell_type": "code",
   "execution_count": 52,
   "metadata": {},
   "outputs": [
    {
     "data": {
      "text/plain": [
       "200"
      ]
     },
     "execution_count": 52,
     "metadata": {},
     "output_type": "execute_result"
    }
   ],
   "source": [
    "# Checking the status code of the response\n",
    "response.status_code"
   ]
  },
  {
   "cell_type": "code",
   "execution_count": 53,
   "metadata": {},
   "outputs": [
    {
     "data": {
      "text/plain": [
       "'{\"success\":false,\"error\":{\"code\":105,\"type\":\"https_access_restricted\",\"info\":\"Access Restricted - Your current Subscription Plan does not support HTTPS Encryption.\"}}'"
      ]
     },
     "execution_count": 53,
     "metadata": {},
     "output_type": "execute_result"
    }
   ],
   "source": [
    "# Inspecting the content body of the response (as a regular 'string')\n",
    "response.text"
   ]
  },
  {
   "cell_type": "code",
   "execution_count": 34,
   "metadata": {},
   "outputs": [
    {
     "data": {
      "text/plain": [
       "b'{\"success\":false,\"error\":{\"code\":105,\"type\":\"https_access_restricted\",\"info\":\"Access Restricted - Your current Subscription Plan does not support HTTPS Encryption.\"}}'"
      ]
     },
     "execution_count": 34,
     "metadata": {},
     "output_type": "execute_result"
    }
   ],
   "source": [
    "# Inspecting the content of the response (in 'bytes' format)\n",
    "response.content"
   ]
  },
  {
   "cell_type": "code",
   "execution_count": 11,
   "metadata": {},
   "outputs": [],
   "source": [
    "# The data is presented in JSON format"
   ]
  },
  {
   "cell_type": "markdown",
   "metadata": {},
   "source": [
    "### Handling the JSON"
   ]
  },
  {
   "cell_type": "code",
   "execution_count": 12,
   "metadata": {},
   "outputs": [
    {
     "data": {
      "text/plain": [
       "{'success': False,\n",
       " 'error': {'code': 101,\n",
       "  'type': 'missing_access_key',\n",
       "  'info': 'You have not supplied an API Access Key. [Required format: access_key=YOUR_ACCESS_KEY]'}}"
      ]
     },
     "execution_count": 12,
     "metadata": {},
     "output_type": "execute_result"
    }
   ],
   "source": [
    "# Requests has in-build method to directly convert the response to JSON format\n",
    "response.json()"
   ]
  },
  {
   "cell_type": "code",
   "execution_count": 13,
   "metadata": {},
   "outputs": [
    {
     "data": {
      "text/plain": [
       "dict"
      ]
     },
     "execution_count": 13,
     "metadata": {},
     "output_type": "execute_result"
    }
   ],
   "source": [
    "# In Python, this JSON is stored as a dictionary\n",
    "type(response.json())"
   ]
  },
  {
   "cell_type": "code",
   "execution_count": 14,
   "metadata": {},
   "outputs": [],
   "source": [
    "# A useful library for JSON manipulation and pretty print\n",
    "import json\n",
    "\n",
    "# It has two main methods:\n",
    "# .loads(), which creates a Python dictionary from a JSON format string (just as response.json() does)\n",
    "# .dumps(), which creates a JSON format string out of a Python dictionary "
   ]
  },
  {
   "cell_type": "code",
   "execution_count": 15,
   "metadata": {},
   "outputs": [
    {
     "name": "stdout",
     "output_type": "stream",
     "text": [
      "https://api.exchangeratesapi.io/latest\n"
     ]
    }
   ],
   "source": [
    "# .dumps() has options to make the string 'prettier', more readable\n",
    "# We can choose the number of spaces to be used as indentation\n",
    "json.dumps(response.json(), indent=4)\n",
    "print(response.url)"
   ]
  },
  {
   "cell_type": "code",
   "execution_count": 16,
   "metadata": {},
   "outputs": [
    {
     "name": "stdout",
     "output_type": "stream",
     "text": [
      "{\n",
      "    \"success\": false,\n",
      "    \"error\": {\n",
      "        \"code\": 101,\n",
      "        \"type\": \"missing_access_key\",\n",
      "        \"info\": \"You have not supplied an API Access Key. [Required format: access_key=YOUR_ACCESS_KEY]\"\n",
      "    }\n",
      "}\n"
     ]
    }
   ],
   "source": [
    "# In order to visualize these changes, we need to print the string\n",
    "#\n",
    "print(json.dumps(response.json(), indent=4))"
   ]
  },
  {
   "cell_type": "code",
   "execution_count": 15,
   "metadata": {},
   "outputs": [
    {
     "data": {
      "text/plain": [
       "dict_keys(['success', 'error'])"
      ]
     },
     "execution_count": 15,
     "metadata": {},
     "output_type": "execute_result"
    }
   ],
   "source": [
    "# It contains 3 keys; the value for the 'rates' key is another dictionary\n",
    "response.json().keys()"
   ]
  },
  {
   "cell_type": "markdown",
   "metadata": {},
   "source": [
    "### Incorporating parameters in the GET request"
   ]
  },
  {
   "cell_type": "code",
   "execution_count": 16,
   "metadata": {},
   "outputs": [
    {
     "data": {
      "text/plain": [
       "'https://api.exchangeratesapi.io/latest?symbols=USD,GBP'"
      ]
     },
     "execution_count": 16,
     "metadata": {},
     "output_type": "execute_result"
    }
   ],
   "source": [
    "# Request parameters are added to the URL after a question mark '?'\n",
    "# In this case, we request for the exchange rates of the US Dollar (USD) and Pound Sterling (GBP) only\n",
    "param_url = base_url + \"?symbols=USD,GBP\"\n",
    "param_url"
   ]
  },
  {
   "cell_type": "code",
   "execution_count": 62,
   "metadata": {},
   "outputs": [
    {
     "name": "stdout",
     "output_type": "stream",
     "text": [
      "Status Code 200\n",
      "https://api.exchangeratesapi.io/latest?symbols=GBP&base=USD\n"
     ]
    }
   ],
   "source": [
    "# Making a request to the server with the new URL, containing the parameters\n",
    "# Need a access key\n",
    "#https://api.exchangeratesapi.io/latest?access_key=ACCESS_KEY => symbols=GBP&base=USD\n",
    "\n",
    "response = requests.get(param_url)\n",
    "print(\"Status Code\",response.status_code)\n",
    "print(response.url)"
   ]
  },
  {
   "cell_type": "code",
   "execution_count": 63,
   "metadata": {},
   "outputs": [
    {
     "data": {
      "text/plain": [
       "{'success': False,\n",
       " 'error': {'code': 101,\n",
       "  'type': 'missing_access_key',\n",
       "  'info': 'You have not supplied an API Access Key. [Required format: access_key=YOUR_ACCESS_KEY]'}}"
      ]
     },
     "execution_count": 63,
     "metadata": {},
     "output_type": "execute_result"
    }
   ],
   "source": [
    "# Saving the response data\n",
    "data = response.json()\n",
    "data"
   ]
  },
  {
   "cell_type": "code",
   "execution_count": 24,
   "metadata": {},
   "outputs": [
    {
     "ename": "KeyError",
     "evalue": "'base'",
     "output_type": "error",
     "traceback": [
      "\u001b[1;31m---------------------------------------------------------------------------\u001b[0m",
      "\u001b[1;31mKeyError\u001b[0m                                  Traceback (most recent call last)",
      "\u001b[1;32m<ipython-input-24-e8605540b4fb>\u001b[0m in \u001b[0;36m<module>\u001b[1;34m\u001b[0m\n\u001b[0;32m      1\u001b[0m \u001b[1;31m# 'data' is a dictionary\u001b[0m\u001b[1;33m\u001b[0m\u001b[1;33m\u001b[0m\u001b[1;33m\u001b[0m\u001b[0m\n\u001b[1;32m----> 2\u001b[1;33m \u001b[0mdata\u001b[0m\u001b[1;33m[\u001b[0m\u001b[1;34m'base'\u001b[0m\u001b[1;33m]\u001b[0m\u001b[1;33m\u001b[0m\u001b[1;33m\u001b[0m\u001b[0m\n\u001b[0m",
      "\u001b[1;31mKeyError\u001b[0m: 'base'"
     ]
    }
   ],
   "source": [
    "# 'data' is a dictionary\n",
    "data['base']"
   ]
  },
  {
   "cell_type": "code",
   "execution_count": 21,
   "metadata": {},
   "outputs": [
    {
     "ename": "KeyError",
     "evalue": "'date'",
     "output_type": "error",
     "traceback": [
      "\u001b[1;31m---------------------------------------------------------------------------\u001b[0m",
      "\u001b[1;31mKeyError\u001b[0m                                  Traceback (most recent call last)",
      "\u001b[1;32m<ipython-input-21-1494bf8f3e13>\u001b[0m in \u001b[0;36m<module>\u001b[1;34m\u001b[0m\n\u001b[1;32m----> 1\u001b[1;33m \u001b[0mdata\u001b[0m\u001b[1;33m[\u001b[0m\u001b[1;34m'date'\u001b[0m\u001b[1;33m]\u001b[0m\u001b[1;33m\u001b[0m\u001b[1;33m\u001b[0m\u001b[0m\n\u001b[0m",
      "\u001b[1;31mKeyError\u001b[0m: 'date'"
     ]
    }
   ],
   "source": [
    "data['date']"
   ]
  },
  {
   "cell_type": "code",
   "execution_count": null,
   "metadata": {},
   "outputs": [],
   "source": [
    "data['rates']"
   ]
  },
  {
   "cell_type": "code",
   "execution_count": 25,
   "metadata": {},
   "outputs": [],
   "source": [
    "# As per the documentation of this API, we can change the base with the parameter 'base'\n",
    "param_url = base_url + \"?symbols=GBP&base=USD\""
   ]
  },
  {
   "cell_type": "code",
   "execution_count": 26,
   "metadata": {},
   "outputs": [
    {
     "data": {
      "text/plain": [
       "{'success': False,\n",
       " 'error': {'code': 101,\n",
       "  'type': 'missing_access_key',\n",
       "  'info': 'You have not supplied an API Access Key. [Required format: access_key=YOUR_ACCESS_KEY]'}}"
      ]
     },
     "execution_count": 26,
     "metadata": {},
     "output_type": "execute_result"
    }
   ],
   "source": [
    "# Sending a request and saving the response JSON, all at once\n",
    "data = requests.get(param_url).json()\n",
    "data"
   ]
  },
  {
   "cell_type": "code",
   "execution_count": null,
   "metadata": {},
   "outputs": [],
   "source": [
    "usd_to_gbp = data['rates']['GBP']\n",
    "usd_to_gbp"
   ]
  },
  {
   "cell_type": "markdown",
   "metadata": {},
   "source": [
    "### Obtaining historical exchange rates"
   ]
  },
  {
   "cell_type": "code",
   "execution_count": 27,
   "metadata": {},
   "outputs": [],
   "source": [
    "base_url = \"https://api.exchangeratesapi.io\""
   ]
  },
  {
   "cell_type": "code",
   "execution_count": 28,
   "metadata": {},
   "outputs": [
    {
     "data": {
      "text/plain": [
       "'https://api.exchangeratesapi.io/2016-01-26'"
      ]
     },
     "execution_count": 28,
     "metadata": {},
     "output_type": "execute_result"
    }
   ],
   "source": [
    "# We can also ask for the exhange rates at a particular day in the past with '/DATE', where DATE is in the format YYYY-MM-DD\n",
    "historical_url = base_url + \"/2016-01-26\"\n",
    "historical_url"
   ]
  },
  {
   "cell_type": "code",
   "execution_count": 29,
   "metadata": {},
   "outputs": [
    {
     "data": {
      "text/plain": [
       "200"
      ]
     },
     "execution_count": 29,
     "metadata": {},
     "output_type": "execute_result"
    }
   ],
   "source": [
    "# Making the GET request\n",
    "response = requests.get(historical_url)\n",
    "response.status_code"
   ]
  },
  {
   "cell_type": "code",
   "execution_count": 30,
   "metadata": {},
   "outputs": [
    {
     "name": "stdout",
     "output_type": "stream",
     "text": [
      "{\n",
      "    \"success\": false,\n",
      "    \"error\": {\n",
      "        \"code\": 101,\n",
      "        \"type\": \"missing_access_key\",\n",
      "        \"info\": \"You have not supplied an API Access Key. [Required format: access_key=YOUR_ACCESS_KEY]\"\n",
      "    }\n",
      "}\n"
     ]
    }
   ],
   "source": [
    "# Pretty printing the data\n",
    "data = response.json()\n",
    "print(json.dumps(data, indent=4))"
   ]
  },
  {
   "cell_type": "markdown",
   "metadata": {},
   "source": [
    "### Extracting data for a time period"
   ]
  },
  {
   "cell_type": "code",
   "execution_count": 31,
   "metadata": {},
   "outputs": [],
   "source": [
    "# The last feautre of this API is: giving the historical exchange rates for every day over some time period"
   ]
  },
  {
   "cell_type": "code",
   "execution_count": 32,
   "metadata": {},
   "outputs": [
    {
     "data": {
      "text/plain": [
       "'https://api.exchangeratesapi.io/history?start_at=2017-04-26&end_at=2018-04-26&symbols=GBP'"
      ]
     },
     "execution_count": 32,
     "metadata": {},
     "output_type": "execute_result"
    }
   ],
   "source": [
    "# The URL for this request is formed with '/history' and the parameters 'start_at' and 'end_at'\n",
    "time_period = base_url + \"/history\" + \"?start_at=2017-04-26&end_at=2018-04-26\" + \"&symbols=GBP\"\n",
    "time_period"
   ]
  },
  {
   "cell_type": "code",
   "execution_count": 33,
   "metadata": {},
   "outputs": [],
   "source": [
    "# Extracting the response JSON object\n",
    "data = requests.get(time_period).json()"
   ]
  },
  {
   "cell_type": "code",
   "execution_count": 34,
   "metadata": {},
   "outputs": [
    {
     "name": "stdout",
     "output_type": "stream",
     "text": [
      "{\n",
      "    \"success\": false,\n",
      "    \"error\": {\n",
      "        \"code\": 101,\n",
      "        \"type\": \"missing_access_key\",\n",
      "        \"info\": \"You have not supplied an API Access Key. [Required format: access_key=YOUR_ACCESS_KEY]\"\n",
      "    }\n",
      "}\n"
     ]
    }
   ],
   "source": [
    "# Pretty printing the JSON\n",
    "# Notice that the dates are in random order\n",
    "print(json.dumps(data, indent=4))"
   ]
  },
  {
   "cell_type": "code",
   "execution_count": 35,
   "metadata": {
    "scrolled": true
   },
   "outputs": [
    {
     "name": "stdout",
     "output_type": "stream",
     "text": [
      "{\n",
      "    \"error\": {\n",
      "        \"code\": 101,\n",
      "        \"info\": \"You have not supplied an API Access Key. [Required format: access_key=YOUR_ACCESS_KEY]\",\n",
      "        \"type\": \"missing_access_key\"\n",
      "    },\n",
      "    \"success\": false\n",
      "}\n"
     ]
    }
   ],
   "source": [
    "# We can use the 'sort_keys' parameter of the json.dumps() method to order these dates chronologically\n",
    "print(json.dumps(data, indent=4, sort_keys=True))"
   ]
  },
  {
   "cell_type": "code",
   "execution_count": 36,
   "metadata": {},
   "outputs": [],
   "source": [
    "# This data can then be used to plot the change in the exchange rate through time or any other further analysis"
   ]
  },
  {
   "cell_type": "markdown",
   "metadata": {},
   "source": [
    "### Testing the API response to incorrect input"
   ]
  },
  {
   "cell_type": "code",
   "execution_count": 37,
   "metadata": {},
   "outputs": [],
   "source": [
    "# Testing how the API behaves if given incorrect input parameters"
   ]
  },
  {
   "cell_type": "code",
   "execution_count": 38,
   "metadata": {},
   "outputs": [],
   "source": [
    "# Trying out an invalid DATE\n",
    "invalid_url = base_url + \"/2019-13-01\""
   ]
  },
  {
   "cell_type": "code",
   "execution_count": 39,
   "metadata": {},
   "outputs": [
    {
     "data": {
      "text/plain": [
       "200"
      ]
     },
     "execution_count": 39,
     "metadata": {},
     "output_type": "execute_result"
    }
   ],
   "source": [
    "# Making the request\n",
    "response = requests.get(invalid_url)\n",
    "response.status_code # The server responds with a 400 error code indicating a 'bad request'"
   ]
  },
  {
   "cell_type": "code",
   "execution_count": 40,
   "metadata": {},
   "outputs": [
    {
     "data": {
      "text/plain": [
       "{'success': False,\n",
       " 'error': {'code': 101,\n",
       "  'type': 'missing_access_key',\n",
       "  'info': 'You have not supplied an API Access Key. [Required format: access_key=YOUR_ACCESS_KEY]'}}"
      ]
     },
     "execution_count": 40,
     "metadata": {},
     "output_type": "execute_result"
    }
   ],
   "source": [
    "# There is also an error message in the JSON\n",
    "response.json()"
   ]
  },
  {
   "cell_type": "code",
   "execution_count": 41,
   "metadata": {},
   "outputs": [],
   "source": [
    "# Testing an invalid BASE CURRENCY\n",
    "invalid_url = base_url + \"/2019-12-01?base=USB\""
   ]
  },
  {
   "cell_type": "code",
   "execution_count": 42,
   "metadata": {},
   "outputs": [
    {
     "data": {
      "text/plain": [
       "200"
      ]
     },
     "execution_count": 42,
     "metadata": {},
     "output_type": "execute_result"
    }
   ],
   "source": [
    "response = requests.get(invalid_url)\n",
    "response.status_code"
   ]
  },
  {
   "cell_type": "code",
   "execution_count": 43,
   "metadata": {},
   "outputs": [
    {
     "data": {
      "text/plain": [
       "{'success': False,\n",
       " 'error': {'code': 101,\n",
       "  'type': 'missing_access_key',\n",
       "  'info': 'You have not supplied an API Access Key. [Required format: access_key=YOUR_ACCESS_KEY]'}}"
      ]
     },
     "execution_count": 43,
     "metadata": {},
     "output_type": "execute_result"
    }
   ],
   "source": [
    "response.json()"
   ]
  },
  {
   "cell_type": "code",
   "execution_count": 44,
   "metadata": {},
   "outputs": [],
   "source": [
    "# Testing an invalid EXCHANGE CURRENCY\n",
    "invalid_url = base_url + \"/2019-12-01?symbols=WBP\""
   ]
  },
  {
   "cell_type": "code",
   "execution_count": 45,
   "metadata": {},
   "outputs": [
    {
     "data": {
      "text/plain": [
       "200"
      ]
     },
     "execution_count": 45,
     "metadata": {},
     "output_type": "execute_result"
    }
   ],
   "source": [
    "response = requests.get(invalid_url)\n",
    "response.status_code"
   ]
  },
  {
   "cell_type": "code",
   "execution_count": 46,
   "metadata": {},
   "outputs": [
    {
     "data": {
      "text/plain": [
       "{'success': False,\n",
       " 'error': {'code': 101,\n",
       "  'type': 'missing_access_key',\n",
       "  'info': 'You have not supplied an API Access Key. [Required format: access_key=YOUR_ACCESS_KEY]'}}"
      ]
     },
     "execution_count": 46,
     "metadata": {},
     "output_type": "execute_result"
    }
   ],
   "source": [
    "response.json()"
   ]
  },
  {
   "cell_type": "markdown",
   "metadata": {},
   "source": [
    "### Creating a simple currency convertor"
   ]
  },
  {
   "cell_type": "code",
   "execution_count": 47,
   "metadata": {},
   "outputs": [],
   "source": [
    "# We can use the data provided from this API to create a simple currency convertor"
   ]
  },
  {
   "cell_type": "code",
   "execution_count": 48,
   "metadata": {},
   "outputs": [
    {
     "name": "stdout",
     "output_type": "stream",
     "text": [
      "Please enter the date (in the format 'yyyy-mm-dd' or 'latest'): 2022-02-20\n",
      "Convert from (currency): KSH\n",
      "Convert to (currency): USD\n",
      "How much KSH do you want to convert: 70000\n"
     ]
    },
    {
     "ename": "KeyError",
     "evalue": "'rates'",
     "output_type": "error",
     "traceback": [
      "\u001b[1;31m---------------------------------------------------------------------------\u001b[0m",
      "\u001b[1;31mKeyError\u001b[0m                                  Traceback (most recent call last)",
      "\u001b[1;32m<ipython-input-48-fa7df3a25668>\u001b[0m in \u001b[0;36m<module>\u001b[1;34m\u001b[0m\n\u001b[0;32m     16\u001b[0m \u001b[1;32melse\u001b[0m\u001b[1;33m:\u001b[0m\u001b[1;33m\u001b[0m\u001b[1;33m\u001b[0m\u001b[0m\n\u001b[0;32m     17\u001b[0m     \u001b[0mdata\u001b[0m \u001b[1;33m=\u001b[0m \u001b[0mresponse\u001b[0m\u001b[1;33m.\u001b[0m\u001b[0mjson\u001b[0m\u001b[1;33m(\u001b[0m\u001b[1;33m)\u001b[0m\u001b[1;33m\u001b[0m\u001b[1;33m\u001b[0m\u001b[0m\n\u001b[1;32m---> 18\u001b[1;33m     \u001b[0mrate\u001b[0m \u001b[1;33m=\u001b[0m \u001b[0mdata\u001b[0m\u001b[1;33m[\u001b[0m\u001b[1;34m'rates'\u001b[0m\u001b[1;33m]\u001b[0m\u001b[1;33m[\u001b[0m\u001b[0mcurr\u001b[0m\u001b[1;33m]\u001b[0m\u001b[1;33m\u001b[0m\u001b[1;33m\u001b[0m\u001b[0m\n\u001b[0m\u001b[0;32m     19\u001b[0m \u001b[1;33m\u001b[0m\u001b[0m\n\u001b[0;32m     20\u001b[0m     \u001b[0mresult\u001b[0m \u001b[1;33m=\u001b[0m \u001b[0mquan\u001b[0m\u001b[1;33m*\u001b[0m\u001b[0mrate\u001b[0m\u001b[1;33m\u001b[0m\u001b[1;33m\u001b[0m\u001b[0m\n",
      "\u001b[1;31mKeyError\u001b[0m: 'rates'"
     ]
    }
   ],
   "source": [
    "# Gathering input parameters from the user\n",
    "date = input(\"Please enter the date (in the format 'yyyy-mm-dd' or 'latest'): \")\n",
    "base = input(\"Convert from (currency): \")\n",
    "curr = input(\"Convert to (currency): \")\n",
    "quan = float(input(\"How much {} do you want to convert: \".format(base)))\n",
    "\n",
    "# Constructing the URL based on the user parameters and sending a request to the server\n",
    "url = base_url + \"/\" + date + \"?base=\" + base + \"&symbols=\" + curr\n",
    "response = requests.get(url)\n",
    "\n",
    "# Displaying the error message, if something went wrong\n",
    "if(response.ok is False):\n",
    "    print(\"\\nError {}:\".format(response.status_code))\n",
    "    print(response.json()['error'])\n",
    "\n",
    "else:\n",
    "    data = response.json()\n",
    "    rate = data['rates'][curr]\n",
    "    \n",
    "    result = quan*rate\n",
    "    \n",
    "    print(\"\\n{0} {1} is equal to {2} {3}, based upon exchange rates on {4}\".format(quan,base,result,curr,data['date']))\n"
   ]
  },
  {
   "cell_type": "markdown",
   "metadata": {},
   "source": [
    "## Another example: the iTunes search API"
   ]
  },
  {
   "cell_type": "code",
   "execution_count": 49,
   "metadata": {},
   "outputs": [],
   "source": [
    "# The documentation for this particular API can be found here:\n",
    "# https://affiliate.itunes.apple.com/resources/documentation/itunes-store-web-service-search-api/"
   ]
  },
  {
   "cell_type": "markdown",
   "metadata": {},
   "source": [
    "### Passing parameters in the request"
   ]
  },
  {
   "cell_type": "code",
   "execution_count": 17,
   "metadata": {},
   "outputs": [],
   "source": [
    "# define base URL\n",
    "base_site = \"https://itunes.apple.com/search\""
   ]
  },
  {
   "cell_type": "code",
   "execution_count": 18,
   "metadata": {},
   "outputs": [
    {
     "data": {
      "text/plain": [
       "<Response [200]>"
      ]
     },
     "execution_count": 18,
     "metadata": {},
     "output_type": "execute_result"
    }
   ],
   "source": [
    "# We can manually add parameters to the URL, as seen before\n",
    "# E.G., searching for 'the beatles'\n",
    "url = base_site + \"?term=the+beatles&country=us\"\n",
    "\n",
    "# submit a GET request with parameters needed\n",
    "requests.get(url)"
   ]
  },
  {
   "cell_type": "code",
   "execution_count": 19,
   "metadata": {},
   "outputs": [],
   "source": [
    "# Note, that the space in 'the beatles' was replaced with a '+' in the URL\n",
    "# Having to worry about special symbols in the URL can make the code harder to write and 'more buggy'"
   ]
  },
  {
   "cell_type": "code",
   "execution_count": 20,
   "metadata": {},
   "outputs": [
    {
     "data": {
      "text/plain": [
       "200"
      ]
     },
     "execution_count": 20,
     "metadata": {},
     "output_type": "execute_result"
    }
   ],
   "source": [
    "# Another way of expressing the parameters is to pass them to the get() method\n",
    "# We pass the key/value parameter pairs as a dictionary to 'params'\n",
    "\n",
    "r = requests.get(base_site, params = {\"term\": \"the beatles\", \"country\": \"us\"})\n",
    "r.status_code"
   ]
  },
  {
   "cell_type": "code",
   "execution_count": 21,
   "metadata": {},
   "outputs": [
    {
     "data": {
      "text/plain": [
       "'https://itunes.apple.com/search?term=the+beatles&country=us'"
      ]
     },
     "execution_count": 21,
     "metadata": {},
     "output_type": "execute_result"
    }
   ],
   "source": [
    "# The request package incorporates those paramaters into the URL automatically\n",
    "# check the URL we submitted the request to\n",
    "r.url"
   ]
  },
  {
   "cell_type": "code",
   "execution_count": 22,
   "metadata": {},
   "outputs": [],
   "source": [
    "# This way of stating parameters is the preffered one"
   ]
  },
  {
   "cell_type": "markdown",
   "metadata": {},
   "source": [
    "### Investigating the output and parameters"
   ]
  },
  {
   "cell_type": "code",
   "execution_count": 23,
   "metadata": {},
   "outputs": [
    {
     "data": {
      "text/plain": [
       "200"
      ]
     },
     "execution_count": 23,
     "metadata": {},
     "output_type": "execute_result"
    }
   ],
   "source": [
    "# The request went through OK\n",
    "r.status_code"
   ]
  },
  {
   "cell_type": "code",
   "execution_count": 25,
   "metadata": {},
   "outputs": [
    {
     "name": "stdout",
     "output_type": "stream",
     "text": [
      "{\n",
      "    \"resultCount\": 50,\n",
      "    \"results\": [\n",
      "        {\n",
      "            \"wrapperType\": \"audiobook\",\n",
      "            \"artistId\": 160778930,\n",
      "            \"collectionId\": 1439484338,\n",
      "            \"artistName\": \"Bob Spitz\",\n",
      "            \"collectionName\": \"The Beatles (Abridged)\",\n",
      "            \"collectionCensoredName\": \"The Beatles (Abridged)\",\n",
      "            \"artistViewUrl\": \"https://books.apple.com/us/author/bob-spitz/id160778930?uo=4\",\n",
      "            \"collectionViewUrl\": \"https://books.apple.com/us/audiobook/the-beatles-abridged/id1439484338?uo=4\",\n",
      "            \"artworkUrl60\": \"https://is3-ssl.mzstatic.com/image/thumb/Music128/v4/69/b8/65/69b86591-ce4b-9bd0-ab71-3808d0ea06dc/9780743552455.jpg/60x60bb.jpg\",\n",
      "            \"artworkUrl100\": \"https://is3-ssl.mzstatic.com/image/thumb/Music128/v4/69/b8/65/69b86591-ce4b-9bd0-ab71-3808d0ea06dc/9780743552455.jpg/100x100bb.jpg\",\n",
      "            \"collectionPrice\": 16.99,\n",
      "            \"collectionExplicitness\": \"notExplicit\",\n",
      "            \"trackCount\": 1,\n",
      "            \"country\": \"USA\",\n",
      "            \"currency\": \"USD\",\n",
      "            \"releaseDate\": \"2005-11-01T08:00:00Z\",\n",
      "            \"primaryGenreName\": \"Biographies & Memoirs\",\n",
      "            \"previewUrl\": \"https://audio-ssl.itunes.apple.com/itunes-assets/AudioPreview123/v4/8a/3b/60/8a3b60b6-8b98-ec66-4193-2410ade915b6/mzaf_3719604921631393408.std.aac.p.m4a\",\n",
      "            \"description\": \"<b>2007 Audie Award Winner for Non-Fiction, Abridged</b><br /><br />Even before the Beatles hit the big time, a myth was created. This version of the Beatles legend smoothed the rough edges and filled in the fault lines, and for more than forty years this manicured version of the Beatles story has sustained as truth -- until now.<br /> The product of almost a decade of research, hundreds of unprecedented interviews, and the discovery of scores of never-before-revealed documents, Bob Spitz's <i>The Beatles</i> is the biography fans have been waiting for.<br /> Never before has a biography of musicians been so immersive and textured. We are there in the McCartney living room when Paul and John learn to write songs together; backstage the night Ringo takes over on drums; in seedy German strip clubs where George lies about his age so the band can perform; and at the <i>Ed Sullivan Show</i> as America discovers the joy and the madness. From Shea to San Francisco, through the London night, on to India, through marmalade skies, across the universe-all the way to a rooftop concert and one last moment of laughter and music.<br /> It is all here, the highs and the lows, the love and the rivalry, the drugs, the tears, the thrill, the magic never again to be repeated. Bob Spitz's masterpiece is, at long last, the biography the Beatles deserve.\"\n",
      "        },\n",
      "        {\n",
      "            \"wrapperType\": \"audiobook\",\n",
      "            \"artistId\": 2037074,\n",
      "            \"collectionId\": 1420827098,\n",
      "            \"artistName\": \"Hunter Davies\",\n",
      "            \"collectionName\": \"The Beatles\",\n",
      "            \"collectionCensoredName\": \"The Beatles\",\n",
      "            \"artistViewUrl\": \"https://books.apple.com/us/author/hunter-davies/id2037074?uo=4\",\n",
      "            \"collectionViewUrl\": \"https://books.apple.com/us/audiobook/the-beatles/id1420827098?uo=4\",\n",
      "            \"artworkUrl60\": \"https://is5-ssl.mzstatic.com/image/thumb/Music114/v4/28/df/d3/28dfd325-1c47-9cbc-84a5-7793ecdc5b04/9781483069364_cover.jpg/60x60bb.jpg\",\n",
      "            \"artworkUrl100\": \"https://is5-ssl.mzstatic.com/image/thumb/Music114/v4/28/df/d3/28dfd325-1c47-9cbc-84a5-7793ecdc5b04/9781483069364_cover.jpg/100x100bb.jpg\",\n",
      "            \"collectionPrice\": 22.99,\n",
      "            \"collectionExplicitness\": \"notExplicit\",\n",
      "            \"trackCount\": 1,\n",
      "            \"copyright\": \"\\u00a9 2010 Blackstone Audio\",\n",
      "            \"country\": \"USA\",\n",
      "            \"currency\": \"USD\",\n",
      "            \"releaseDate\": \"2010-03-18T07:00:00Z\",\n",
      "            \"primaryGenreName\": \"Biographies & Memoirs\",\n",
      "            \"previewUrl\": \"https://audio-ssl.itunes.apple.com/itunes-assets/AudioPreview123/v4/8b/68/95/8b689586-b40d-6086-d80a-d08b2a9c4061/mzaf_17544905035827147247.std.aac.p.m4a\",\n",
      "            \"description\": \"This worldwide bestseller is the biography that defined a band\\u2014and an era.<br /><br />As the friend and only authorized biographer of the most famous musical group in history, Davies had full access to the Beatles\\u2014including their family, friends, and colleauges\\u2014as well as their help and encouragement in writing this biography. He spent eighteen months with them when they were at the peak of their musical genius and the pinnacle of their popularity, making a mark on history and popular culture that would never fade. Davies stayed on with the Beatles through their breakup and remained friends with the individual members afterwards, enabling him to write the continuing story of their solo careers.<br /><br />First published in 1968, this newly revised edition has added information, including a new introduction and a newly discovered song lyric by George Harrison.\"\n",
      "        },\n",
      "        {\n",
      "            \"wrapperType\": \"audiobook\",\n",
      "            \"artistId\": 125377525,\n",
      "            \"collectionId\": 189222494,\n",
      "            \"artistName\": \"N.N.\",\n",
      "            \"collectionName\": \"The Beatles - I want to hold your hand: Pop-Splits\",\n",
      "            \"collectionCensoredName\": \"The Beatles - I want to hold your hand: Pop-Splits\",\n",
      "            \"artistViewUrl\": \"https://books.apple.com/us/author/n-n/id125377525?uo=4\",\n",
      "            \"collectionViewUrl\": \"https://books.apple.com/us/audiobook/the-beatles-i-want-to-hold-your-hand-pop-splits/id189222494?uo=4\",\n",
      "            \"artworkUrl60\": \"https://is1-ssl.mzstatic.com/image/thumb/Music128/v4/15/d8/d2/15d8d240-d232-c02c-1926-2fcab33da76e/rm_image.jpg/60x60bb.jpg\",\n",
      "            \"artworkUrl100\": \"https://is1-ssl.mzstatic.com/image/thumb/Music128/v4/15/d8/d2/15d8d240-d232-c02c-1926-2fcab33da76e/rm_image.jpg/100x100bb.jpg\",\n",
      "            \"collectionPrice\": 0.99,\n",
      "            \"collectionExplicitness\": \"notExplicit\",\n",
      "            \"trackCount\": 1,\n",
      "            \"copyright\": \"\\u00a9 2006 der apparat multimedia gmbh\",\n",
      "            \"country\": \"USA\",\n",
      "            \"currency\": \"USD\",\n",
      "            \"releaseDate\": \"2006-09-05T07:00:00Z\",\n",
      "            \"primaryGenreName\": \"Nonfiction\",\n",
      "            \"previewUrl\": \"https://audio-ssl.itunes.apple.com/itunes-assets/AudioPreview123/v4/47/b5/8e/47b58ee5-e6e4-04da-35b7-aca557f69f5c/mzaf_4114904369302677830.std.aac.p.m4a\",\n",
      "            \"description\": \"Dieser Popsplit handelt von dem Beatles-Song \\\"I want to hold your hand\\\" und davon, wie Bob Dylan den Beatles das Kiffen beibrachte...<br />Der Titel ist Teil des Pop-Splits \\\"Lust for Life -- 21 Geschichten zu Sex, Drugs &amp; Rock'n' Roll\\\".\"\n",
      "        },\n",
      "        {\n",
      "            \"wrapperType\": \"track\",\n",
      "            \"kind\": \"song\",\n",
      "            \"artistId\": 829356035,\n",
      "            \"collectionId\": 1440844129,\n",
      "            \"trackId\": 1440844145,\n",
      "            \"artistName\": \"Rae Sremmurd\",\n",
      "            \"collectionName\": \"SremmLife 2 (Deluxe)\",\n",
      "            \"trackName\": \"Black Beatles (feat. Gucci Mane)\",\n",
      "            \"collectionCensoredName\": \"SremmLife 2 (Deluxe)\",\n",
      "            \"trackCensoredName\": \"Black Beatles (feat. Gucci Mane)\",\n",
      "            \"artistViewUrl\": \"https://music.apple.com/us/artist/rae-sremmurd/829356035?uo=4\",\n",
      "            \"collectionViewUrl\": \"https://music.apple.com/us/album/black-beatles-feat-gucci-mane/1440844129?i=1440844145&uo=4\",\n",
      "            \"trackViewUrl\": \"https://music.apple.com/us/album/black-beatles-feat-gucci-mane/1440844129?i=1440844145&uo=4\",\n",
      "            \"previewUrl\": \"https://audio-ssl.itunes.apple.com/itunes-assets/AudioPreview125/v4/b2/36/e4/b236e45a-8050-0414-72ff-d477e22bb58b/mzaf_789672139731068638.plus.aac.p.m4a\",\n",
      "            \"artworkUrl30\": \"https://is4-ssl.mzstatic.com/image/thumb/Music125/v4/7f/cf/ce/7fcfce2c-384c-2a35-efb1-e457b3b7142a/source/30x30bb.jpg\",\n",
      "            \"artworkUrl60\": \"https://is4-ssl.mzstatic.com/image/thumb/Music125/v4/7f/cf/ce/7fcfce2c-384c-2a35-efb1-e457b3b7142a/source/60x60bb.jpg\",\n",
      "            \"artworkUrl100\": \"https://is4-ssl.mzstatic.com/image/thumb/Music125/v4/7f/cf/ce/7fcfce2c-384c-2a35-efb1-e457b3b7142a/source/100x100bb.jpg\",\n",
      "            \"collectionPrice\": 10.99,\n",
      "            \"trackPrice\": 1.29,\n",
      "            \"releaseDate\": \"2016-08-12T12:00:00Z\",\n",
      "            \"collectionExplicitness\": \"explicit\",\n",
      "            \"trackExplicitness\": \"explicit\",\n",
      "            \"discCount\": 1,\n",
      "            \"discNumber\": 1,\n",
      "            \"trackCount\": 14,\n",
      "            \"trackNumber\": 5,\n",
      "            \"trackTimeMillis\": 291891,\n",
      "            \"country\": \"USA\",\n",
      "            \"currency\": \"USD\",\n",
      "            \"primaryGenreName\": \"Hip-Hop/Rap\",\n",
      "            \"contentAdvisoryRating\": \"Explicit\",\n",
      "            \"isStreamable\": true\n",
      "        },\n",
      "        {\n",
      "            \"wrapperType\": \"track\",\n",
      "            \"kind\": \"song\",\n",
      "            \"artistId\": 157458,\n",
      "            \"collectionId\": 282495289,\n",
      "            \"trackId\": 282495296,\n",
      "            \"artistName\": \"Daniel Johnston\",\n",
      "            \"collectionName\": \"Yip! Jump Music\",\n",
      "            \"trackName\": \"The Beatles\",\n",
      "            \"collectionCensoredName\": \"Yip! Jump Music\",\n",
      "            \"trackCensoredName\": \"The Beatles\",\n",
      "            \"artistViewUrl\": \"https://music.apple.com/us/artist/daniel-johnston/157458?uo=4\",\n",
      "            \"collectionViewUrl\": \"https://music.apple.com/us/album/the-beatles/282495289?i=282495296&uo=4\",\n",
      "            \"trackViewUrl\": \"https://music.apple.com/us/album/the-beatles/282495289?i=282495296&uo=4\",\n",
      "            \"previewUrl\": \"https://audio-ssl.itunes.apple.com/itunes-assets/AudioPreview125/v4/e6/81/31/e68131e4-2889-d027-d1e2-6755e56fd434/mzaf_13627254640725098082.plus.aac.p.m4a\",\n",
      "            \"artworkUrl30\": \"https://is5-ssl.mzstatic.com/image/thumb/Music/v4/9c/34/4e/9c344edb-beb8-e480-62cf-ae9b6d59f363/source/30x30bb.jpg\",\n",
      "            \"artworkUrl60\": \"https://is5-ssl.mzstatic.com/image/thumb/Music/v4/9c/34/4e/9c344edb-beb8-e480-62cf-ae9b6d59f363/source/60x60bb.jpg\",\n",
      "            \"artworkUrl100\": \"https://is5-ssl.mzstatic.com/image/thumb/Music/v4/9c/34/4e/9c344edb-beb8-e480-62cf-ae9b6d59f363/source/100x100bb.jpg\",\n",
      "            \"collectionPrice\": 9.99,\n",
      "            \"trackPrice\": 0.99,\n",
      "            \"releaseDate\": \"1983-05-01T12:00:00Z\",\n",
      "            \"collectionExplicitness\": \"notExplicit\",\n",
      "            \"trackExplicitness\": \"notExplicit\",\n",
      "            \"discCount\": 1,\n",
      "            \"discNumber\": 1,\n",
      "            \"trackCount\": 20,\n",
      "            \"trackNumber\": 2,\n",
      "            \"trackTimeMillis\": 145453,\n",
      "            \"country\": \"USA\",\n",
      "            \"currency\": \"USD\",\n",
      "            \"primaryGenreName\": \"Alternative\",\n",
      "            \"isStreamable\": true\n",
      "        },\n",
      "        {\n",
      "            \"wrapperType\": \"track\",\n",
      "            \"kind\": \"song\",\n",
      "            \"artistId\": 136975,\n",
      "            \"collectionId\": 1441133100,\n",
      "            \"trackId\": 1441133277,\n",
      "            \"artistName\": \"The Beatles\",\n",
      "            \"collectionName\": \"The Beatles 1967-1970 (The Blue Album)\",\n",
      "            \"trackName\": \"Hey Jude\",\n",
      "            \"collectionCensoredName\": \"The Beatles 1967-1970 (The Blue Album)\",\n",
      "            \"trackCensoredName\": \"Hey Jude\",\n",
      "            \"artistViewUrl\": \"https://music.apple.com/us/artist/the-beatles/136975?uo=4\",\n",
      "            \"collectionViewUrl\": \"https://music.apple.com/us/album/hey-jude/1441133100?i=1441133277&uo=4\",\n",
      "            \"trackViewUrl\": \"https://music.apple.com/us/album/hey-jude/1441133100?i=1441133277&uo=4\",\n",
      "            \"previewUrl\": \"https://audio-ssl.itunes.apple.com/itunes-assets/AudioPreview125/v4/a4/33/20/a433208b-4e66-598a-55db-2ab05a4a5c77/mzaf_8650423337535233229.plus.aac.p.m4a\",\n",
      "            \"artworkUrl30\": \"https://is1-ssl.mzstatic.com/image/thumb/Music125/v4/27/7e/ef/277eefc6-f30a-cf5d-6e84-a80c435f36b0/source/30x30bb.jpg\",\n",
      "            \"artworkUrl60\": \"https://is1-ssl.mzstatic.com/image/thumb/Music125/v4/27/7e/ef/277eefc6-f30a-cf5d-6e84-a80c435f36b0/source/60x60bb.jpg\",\n",
      "            \"artworkUrl100\": \"https://is1-ssl.mzstatic.com/image/thumb/Music125/v4/27/7e/ef/277eefc6-f30a-cf5d-6e84-a80c435f36b0/source/100x100bb.jpg\",\n",
      "            \"collectionPrice\": 19.99,\n",
      "            \"trackPrice\": 1.29,\n",
      "            \"releaseDate\": \"1968-08-26T12:00:00Z\",\n",
      "            \"collectionExplicitness\": \"notExplicit\",\n",
      "            \"trackExplicitness\": \"notExplicit\",\n",
      "            \"discCount\": 2,\n",
      "            \"discNumber\": 1,\n",
      "            \"trackCount\": 14,\n",
      "            \"trackNumber\": 13,\n",
      "            \"trackTimeMillis\": 431333,\n",
      "            \"country\": \"USA\",\n",
      "            \"currency\": \"USD\",\n",
      "            \"primaryGenreName\": \"Rock\",\n",
      "            \"isStreamable\": true\n",
      "        },\n",
      "        {\n",
      "            \"wrapperType\": \"track\",\n",
      "            \"kind\": \"song\",\n",
      "            \"artistId\": 136975,\n",
      "            \"collectionId\": 1441133180,\n",
      "            \"trackId\": 1441133834,\n",
      "            \"artistName\": \"The Beatles\",\n",
      "            \"collectionName\": \"The Beatles (The White Album)\",\n",
      "            \"trackName\": \"Blackbird\",\n",
      "            \"collectionCensoredName\": \"The Beatles (The White Album)\",\n",
      "            \"trackCensoredName\": \"Blackbird\",\n",
      "            \"artistViewUrl\": \"https://music.apple.com/us/artist/the-beatles/136975?uo=4\",\n",
      "            \"collectionViewUrl\": \"https://music.apple.com/us/album/blackbird/1441133180?i=1441133834&uo=4\",\n",
      "            \"trackViewUrl\": \"https://music.apple.com/us/album/blackbird/1441133180?i=1441133834&uo=4\",\n",
      "            \"previewUrl\": \"https://audio-ssl.itunes.apple.com/itunes-assets/AudioPreview115/v4/10/e8/96/10e89630-4b7b-77d4-af63-829d597340ba/mzaf_842543440499453757.plus.aac.p.m4a\",\n",
      "            \"artworkUrl30\": \"https://is3-ssl.mzstatic.com/image/thumb/Music125/v4/16/fe/6a/16fe6a77-f15a-a4e3-1f92-cda58964c7d5/source/30x30bb.jpg\",\n",
      "            \"artworkUrl60\": \"https://is3-ssl.mzstatic.com/image/thumb/Music125/v4/16/fe/6a/16fe6a77-f15a-a4e3-1f92-cda58964c7d5/source/60x60bb.jpg\",\n",
      "            \"artworkUrl100\": \"https://is3-ssl.mzstatic.com/image/thumb/Music125/v4/16/fe/6a/16fe6a77-f15a-a4e3-1f92-cda58964c7d5/source/100x100bb.jpg\",\n",
      "            \"collectionPrice\": 19.99,\n",
      "            \"trackPrice\": 1.29,\n",
      "            \"releaseDate\": \"1968-11-22T12:00:00Z\",\n",
      "            \"collectionExplicitness\": \"notExplicit\",\n",
      "            \"trackExplicitness\": \"notExplicit\",\n",
      "            \"discCount\": 3,\n",
      "            \"discNumber\": 1,\n",
      "            \"trackCount\": 17,\n",
      "            \"trackNumber\": 11,\n",
      "            \"trackTimeMillis\": 138387,\n",
      "            \"country\": \"USA\",\n",
      "            \"currency\": \"USD\",\n",
      "            \"primaryGenreName\": \"Rock\",\n",
      "            \"isStreamable\": true\n",
      "        },\n",
      "        {\n",
      "            \"wrapperType\": \"track\",\n",
      "            \"kind\": \"song\",\n",
      "            \"artistId\": 5621730,\n",
      "            \"collectionId\": 1025317255,\n",
      "            \"trackId\": 1025317599,\n",
      "            \"artistName\": \"Devendra Banhart\",\n",
      "            \"collectionName\": \"Cripple Crow\",\n",
      "            \"trackName\": \"The Beatles\",\n",
      "            \"collectionCensoredName\": \"Cripple Crow\",\n",
      "            \"trackCensoredName\": \"The Beatles\",\n",
      "            \"artistViewUrl\": \"https://music.apple.com/us/artist/devendra-banhart/5621730?uo=4\",\n",
      "            \"collectionViewUrl\": \"https://music.apple.com/us/album/the-beatles/1025317255?i=1025317599&uo=4\",\n",
      "            \"trackViewUrl\": \"https://music.apple.com/us/album/the-beatles/1025317255?i=1025317599&uo=4\",\n",
      "            \"previewUrl\": \"https://audio-ssl.itunes.apple.com/itunes-assets/AudioPreview125/v4/44/c1/98/44c198a8-2a9c-dea6-d575-36141138edd6/mzaf_1061800412585949492.plus.aac.p.m4a\",\n",
      "            \"artworkUrl30\": \"https://is1-ssl.mzstatic.com/image/thumb/Music125/v4/c1/e6/3b/c1e63b0b-2fe6-4279-39d0-e43204cf5594/source/30x30bb.jpg\",\n",
      "            \"artworkUrl60\": \"https://is1-ssl.mzstatic.com/image/thumb/Music125/v4/c1/e6/3b/c1e63b0b-2fe6-4279-39d0-e43204cf5594/source/60x60bb.jpg\",\n",
      "            \"artworkUrl100\": \"https://is1-ssl.mzstatic.com/image/thumb/Music125/v4/c1/e6/3b/c1e63b0b-2fe6-4279-39d0-e43204cf5594/source/100x100bb.jpg\",\n",
      "            \"collectionPrice\": 9.99,\n",
      "            \"trackPrice\": 1.29,\n",
      "            \"releaseDate\": \"2005-09-13T12:00:00Z\",\n",
      "            \"collectionExplicitness\": \"notExplicit\",\n",
      "            \"trackExplicitness\": \"notExplicit\",\n",
      "            \"discCount\": 1,\n",
      "            \"discNumber\": 1,\n",
      "            \"trackCount\": 22,\n",
      "            \"trackNumber\": 10,\n",
      "            \"trackTimeMillis\": 104413,\n",
      "            \"country\": \"USA\",\n",
      "            \"currency\": \"USD\",\n",
      "            \"primaryGenreName\": \"Alternative\",\n",
      "            \"isStreamable\": true\n",
      "        },\n",
      "        {\n",
      "            \"wrapperType\": \"track\",\n",
      "            \"kind\": \"song\",\n",
      "            \"artistId\": 157458,\n",
      "            \"collectionId\": 1558590212,\n",
      "            \"trackId\": 1558590540,\n",
      "            \"artistName\": \"Daniel Johnston\",\n",
      "            \"collectionName\": \"Yip Jump Music\",\n",
      "            \"trackName\": \"The Beatles\",\n",
      "            \"collectionCensoredName\": \"Yip Jump Music\",\n",
      "            \"trackCensoredName\": \"The Beatles\",\n",
      "            \"artistViewUrl\": \"https://music.apple.com/us/artist/daniel-johnston/157458?uo=4\",\n",
      "            \"collectionViewUrl\": \"https://music.apple.com/us/album/the-beatles/1558590212?i=1558590540&uo=4\",\n",
      "            \"trackViewUrl\": \"https://music.apple.com/us/album/the-beatles/1558590212?i=1558590540&uo=4\",\n",
      "            \"previewUrl\": \"https://audio-ssl.itunes.apple.com/itunes-assets/AudioPreview124/v4/0e/13/d8/0e13d8e1-d1a9-75d7-5c29-62744288f706/mzaf_14447960789798372824.plus.aac.p.m4a\",\n",
      "            \"artworkUrl30\": \"https://is2-ssl.mzstatic.com/image/thumb/Music124/v4/8a/c8/44/8ac844b3-bc80-2fa8-198c-666b007224e2/source/30x30bb.jpg\",\n",
      "            \"artworkUrl60\": \"https://is2-ssl.mzstatic.com/image/thumb/Music124/v4/8a/c8/44/8ac844b3-bc80-2fa8-198c-666b007224e2/source/60x60bb.jpg\",\n",
      "            \"artworkUrl100\": \"https://is2-ssl.mzstatic.com/image/thumb/Music124/v4/8a/c8/44/8ac844b3-bc80-2fa8-198c-666b007224e2/source/100x100bb.jpg\",\n",
      "            \"collectionPrice\": 9.99,\n",
      "            \"trackPrice\": 1.29,\n",
      "            \"releaseDate\": \"1983-05-01T12:00:00Z\",\n",
      "            \"collectionExplicitness\": \"notExplicit\",\n",
      "            \"trackExplicitness\": \"notExplicit\",\n",
      "            \"discCount\": 1,\n",
      "            \"discNumber\": 1,\n",
      "            \"trackCount\": 20,\n",
      "            \"trackNumber\": 2,\n",
      "            \"trackTimeMillis\": 145639,\n",
      "            \"country\": \"USA\",\n",
      "            \"currency\": \"USD\",\n",
      "            \"primaryGenreName\": \"Alternative\",\n",
      "            \"isStreamable\": true\n",
      "        },\n",
      "        {\n",
      "            \"wrapperType\": \"track\",\n",
      "            \"kind\": \"song\",\n",
      "            \"artistId\": 136975,\n",
      "            \"collectionId\": 1441133180,\n",
      "            \"trackId\": 1441133644,\n",
      "            \"artistName\": \"The Beatles\",\n",
      "            \"collectionName\": \"The Beatles (The White Album)\",\n",
      "            \"trackName\": \"While My Guitar Gently Weeps\",\n",
      "            \"collectionCensoredName\": \"The Beatles (The White Album)\",\n",
      "            \"trackCensoredName\": \"While My Guitar Gently Weeps\",\n",
      "            \"artistViewUrl\": \"https://music.apple.com/us/artist/the-beatles/136975?uo=4\",\n",
      "            \"collectionViewUrl\": \"https://music.apple.com/us/album/while-my-guitar-gently-weeps/1441133180?i=1441133644&uo=4\",\n",
      "            \"trackViewUrl\": \"https://music.apple.com/us/album/while-my-guitar-gently-weeps/1441133180?i=1441133644&uo=4\",\n",
      "            \"previewUrl\": \"https://audio-ssl.itunes.apple.com/itunes-assets/AudioPreview115/v4/85/aa/2c/85aa2cd7-f2bb-dd20-48c4-5172a3e44c54/mzaf_16441741399674871731.plus.aac.p.m4a\",\n",
      "            \"artworkUrl30\": \"https://is3-ssl.mzstatic.com/image/thumb/Music125/v4/16/fe/6a/16fe6a77-f15a-a4e3-1f92-cda58964c7d5/source/30x30bb.jpg\",\n",
      "            \"artworkUrl60\": \"https://is3-ssl.mzstatic.com/image/thumb/Music125/v4/16/fe/6a/16fe6a77-f15a-a4e3-1f92-cda58964c7d5/source/60x60bb.jpg\",\n",
      "            \"artworkUrl100\": \"https://is3-ssl.mzstatic.com/image/thumb/Music125/v4/16/fe/6a/16fe6a77-f15a-a4e3-1f92-cda58964c7d5/source/100x100bb.jpg\",\n",
      "            \"collectionPrice\": 19.99,\n",
      "            \"trackPrice\": 1.29,\n",
      "            \"releaseDate\": \"1968-11-22T12:00:00Z\",\n",
      "            \"collectionExplicitness\": \"notExplicit\",\n",
      "            \"trackExplicitness\": \"notExplicit\",\n",
      "            \"discCount\": 3,\n",
      "            \"discNumber\": 1,\n",
      "            \"trackCount\": 17,\n",
      "            \"trackNumber\": 7,\n",
      "            \"trackTimeMillis\": 285000,\n",
      "            \"country\": \"USA\",\n",
      "            \"currency\": \"USD\",\n",
      "            \"primaryGenreName\": \"Rock\",\n",
      "            \"isStreamable\": true\n",
      "        },\n",
      "        {\n",
      "            \"wrapperType\": \"track\",\n",
      "            \"kind\": \"song\",\n",
      "            \"artistId\": 136975,\n",
      "            \"collectionId\": 1441133180,\n",
      "            \"trackId\": 1441133613,\n",
      "            \"artistName\": \"The Beatles\",\n",
      "            \"collectionName\": \"The Beatles (The White Album)\",\n",
      "            \"trackName\": \"Ob-La-Di, Ob-La-Da\",\n",
      "            \"collectionCensoredName\": \"The Beatles (The White Album)\",\n",
      "            \"trackCensoredName\": \"Ob-La-Di, Ob-La-Da\",\n",
      "            \"artistViewUrl\": \"https://music.apple.com/us/artist/the-beatles/136975?uo=4\",\n",
      "            \"collectionViewUrl\": \"https://music.apple.com/us/album/ob-la-di-ob-la-da/1441133180?i=1441133613&uo=4\",\n",
      "            \"trackViewUrl\": \"https://music.apple.com/us/album/ob-la-di-ob-la-da/1441133180?i=1441133613&uo=4\",\n",
      "            \"previewUrl\": \"https://audio-ssl.itunes.apple.com/itunes-assets/AudioPreview115/v4/9e/c4/f1/9ec4f117-0f5d-7c98-6980-78c25f156803/mzaf_9913753645447874881.plus.aac.p.m4a\",\n",
      "            \"artworkUrl30\": \"https://is3-ssl.mzstatic.com/image/thumb/Music125/v4/16/fe/6a/16fe6a77-f15a-a4e3-1f92-cda58964c7d5/source/30x30bb.jpg\",\n",
      "            \"artworkUrl60\": \"https://is3-ssl.mzstatic.com/image/thumb/Music125/v4/16/fe/6a/16fe6a77-f15a-a4e3-1f92-cda58964c7d5/source/60x60bb.jpg\",\n",
      "            \"artworkUrl100\": \"https://is3-ssl.mzstatic.com/image/thumb/Music125/v4/16/fe/6a/16fe6a77-f15a-a4e3-1f92-cda58964c7d5/source/100x100bb.jpg\",\n",
      "            \"collectionPrice\": 19.99,\n",
      "            \"trackPrice\": 1.29,\n",
      "            \"releaseDate\": \"1968-11-22T12:00:00Z\",\n",
      "            \"collectionExplicitness\": \"notExplicit\",\n",
      "            \"trackExplicitness\": \"notExplicit\",\n",
      "            \"discCount\": 3,\n",
      "            \"discNumber\": 1,\n",
      "            \"trackCount\": 17,\n",
      "            \"trackNumber\": 4,\n",
      "            \"trackTimeMillis\": 188960,\n",
      "            \"country\": \"USA\",\n",
      "            \"currency\": \"USD\",\n",
      "            \"primaryGenreName\": \"Rock\",\n",
      "            \"isStreamable\": true\n",
      "        },\n",
      "        {\n",
      "            \"wrapperType\": \"track\",\n",
      "            \"kind\": \"song\",\n",
      "            \"artistId\": 136975,\n",
      "            \"collectionId\": 1441133100,\n",
      "            \"trackId\": 1441133279,\n",
      "            \"artistName\": \"The Beatles\",\n",
      "            \"collectionName\": \"The Beatles 1967-1970 (The Blue Album)\",\n",
      "            \"trackName\": \"Revolution\",\n",
      "            \"collectionCensoredName\": \"The Beatles 1967-1970 (The Blue Album)\",\n",
      "            \"trackCensoredName\": \"Revolution\",\n",
      "            \"artistViewUrl\": \"https://music.apple.com/us/artist/the-beatles/136975?uo=4\",\n",
      "            \"collectionViewUrl\": \"https://music.apple.com/us/album/revolution/1441133100?i=1441133279&uo=4\",\n",
      "            \"trackViewUrl\": \"https://music.apple.com/us/album/revolution/1441133100?i=1441133279&uo=4\",\n",
      "            \"previewUrl\": \"https://audio-ssl.itunes.apple.com/itunes-assets/AudioPreview115/v4/4a/fc/db/4afcdb94-b5e8-b694-af9b-2956e35dee63/mzaf_3987597877025334346.plus.aac.p.m4a\",\n",
      "            \"artworkUrl30\": \"https://is1-ssl.mzstatic.com/image/thumb/Music125/v4/27/7e/ef/277eefc6-f30a-cf5d-6e84-a80c435f36b0/source/30x30bb.jpg\",\n",
      "            \"artworkUrl60\": \"https://is1-ssl.mzstatic.com/image/thumb/Music125/v4/27/7e/ef/277eefc6-f30a-cf5d-6e84-a80c435f36b0/source/60x60bb.jpg\",\n",
      "            \"artworkUrl100\": \"https://is1-ssl.mzstatic.com/image/thumb/Music125/v4/27/7e/ef/277eefc6-f30a-cf5d-6e84-a80c435f36b0/source/100x100bb.jpg\",\n",
      "            \"collectionPrice\": 19.99,\n",
      "            \"trackPrice\": 1.29,\n",
      "            \"releaseDate\": \"1968-08-26T12:00:00Z\",\n",
      "            \"collectionExplicitness\": \"notExplicit\",\n",
      "            \"trackExplicitness\": \"notExplicit\",\n",
      "            \"discCount\": 2,\n",
      "            \"discNumber\": 1,\n",
      "            \"trackCount\": 14,\n",
      "            \"trackNumber\": 14,\n",
      "            \"trackTimeMillis\": 203292,\n",
      "            \"country\": \"USA\",\n",
      "            \"currency\": \"USD\",\n",
      "            \"primaryGenreName\": \"Rock\",\n",
      "            \"isStreamable\": true\n",
      "        },\n",
      "        {\n",
      "            \"wrapperType\": \"track\",\n",
      "            \"kind\": \"song\",\n",
      "            \"artistId\": 136975,\n",
      "            \"collectionId\": 1441133180,\n",
      "            \"trackId\": 1441134086,\n",
      "            \"artistName\": \"The Beatles\",\n",
      "            \"collectionName\": \"The Beatles (The White Album)\",\n",
      "            \"trackName\": \"Birthday\",\n",
      "            \"collectionCensoredName\": \"The Beatles (The White Album)\",\n",
      "            \"trackCensoredName\": \"Birthday\",\n",
      "            \"artistViewUrl\": \"https://music.apple.com/us/artist/the-beatles/136975?uo=4\",\n",
      "            \"collectionViewUrl\": \"https://music.apple.com/us/album/birthday/1441133180?i=1441134086&uo=4\",\n",
      "            \"trackViewUrl\": \"https://music.apple.com/us/album/birthday/1441133180?i=1441134086&uo=4\",\n",
      "            \"previewUrl\": \"https://audio-ssl.itunes.apple.com/itunes-assets/AudioPreview115/v4/82/c9/8a/82c98aa5-78d4-e009-8444-93c7c2ad9e55/mzaf_10769763491539067305.plus.aac.p.m4a\",\n",
      "            \"artworkUrl30\": \"https://is3-ssl.mzstatic.com/image/thumb/Music125/v4/16/fe/6a/16fe6a77-f15a-a4e3-1f92-cda58964c7d5/source/30x30bb.jpg\",\n",
      "            \"artworkUrl60\": \"https://is3-ssl.mzstatic.com/image/thumb/Music125/v4/16/fe/6a/16fe6a77-f15a-a4e3-1f92-cda58964c7d5/source/60x60bb.jpg\",\n",
      "            \"artworkUrl100\": \"https://is3-ssl.mzstatic.com/image/thumb/Music125/v4/16/fe/6a/16fe6a77-f15a-a4e3-1f92-cda58964c7d5/source/100x100bb.jpg\",\n",
      "            \"collectionPrice\": 19.99,\n",
      "            \"trackPrice\": 1.29,\n",
      "            \"releaseDate\": \"1968-11-22T12:00:00Z\",\n",
      "            \"collectionExplicitness\": \"notExplicit\",\n",
      "            \"trackExplicitness\": \"notExplicit\",\n",
      "            \"discCount\": 3,\n",
      "            \"discNumber\": 2,\n",
      "            \"trackCount\": 13,\n",
      "            \"trackNumber\": 1,\n",
      "            \"trackTimeMillis\": 162080,\n",
      "            \"country\": \"USA\",\n",
      "            \"currency\": \"USD\",\n",
      "            \"primaryGenreName\": \"Rock\",\n",
      "            \"isStreamable\": true\n",
      "        },\n",
      "        {\n",
      "            \"wrapperType\": \"track\",\n",
      "            \"kind\": \"song\",\n",
      "            \"artistId\": 136975,\n",
      "            \"collectionId\": 1474815798,\n",
      "            \"trackId\": 1474815898,\n",
      "            \"artistName\": \"The Beatles\",\n",
      "            \"collectionName\": \"Abbey Road (2019 Mix)\",\n",
      "            \"trackName\": \"Here Comes the Sun\",\n",
      "            \"collectionCensoredName\": \"Abbey Road (2019 Mix)\",\n",
      "            \"trackCensoredName\": \"Here Comes the Sun (2019 Mix)\",\n",
      "            \"artistViewUrl\": \"https://music.apple.com/us/artist/the-beatles/136975?uo=4\",\n",
      "            \"collectionViewUrl\": \"https://music.apple.com/us/album/here-comes-the-sun-2019-mix/1474815798?i=1474815898&uo=4\",\n",
      "            \"trackViewUrl\": \"https://music.apple.com/us/album/here-comes-the-sun-2019-mix/1474815798?i=1474815898&uo=4\",\n",
      "            \"previewUrl\": \"https://audio-ssl.itunes.apple.com/itunes-assets/AudioPreview125/v4/78/18/cc/7818cce5-1c20-1270-a9bf-b24e4be8c152/mzaf_7407478495292373909.plus.aac.p.m4a\",\n",
      "            \"artworkUrl30\": \"https://is2-ssl.mzstatic.com/image/thumb/Music114/v4/2a/f9/04/2af904cd-f05a-d5a1-8014-c1387855b56c/source/30x30bb.jpg\",\n",
      "            \"artworkUrl60\": \"https://is2-ssl.mzstatic.com/image/thumb/Music114/v4/2a/f9/04/2af904cd-f05a-d5a1-8014-c1387855b56c/source/60x60bb.jpg\",\n",
      "            \"artworkUrl100\": \"https://is2-ssl.mzstatic.com/image/thumb/Music114/v4/2a/f9/04/2af904cd-f05a-d5a1-8014-c1387855b56c/source/100x100bb.jpg\",\n",
      "            \"collectionPrice\": 9.99,\n",
      "            \"trackPrice\": 1.29,\n",
      "            \"releaseDate\": \"1969-09-26T12:00:00Z\",\n",
      "            \"collectionExplicitness\": \"notExplicit\",\n",
      "            \"trackExplicitness\": \"notExplicit\",\n",
      "            \"discCount\": 1,\n",
      "            \"discNumber\": 1,\n",
      "            \"trackCount\": 17,\n",
      "            \"trackNumber\": 7,\n",
      "            \"trackTimeMillis\": 185707,\n",
      "            \"country\": \"USA\",\n",
      "            \"currency\": \"USD\",\n",
      "            \"primaryGenreName\": \"Rock\",\n",
      "            \"isStreamable\": true\n",
      "        },\n",
      "        {\n",
      "            \"wrapperType\": \"track\",\n",
      "            \"kind\": \"song\",\n",
      "            \"artistId\": 136975,\n",
      "            \"collectionId\": 1441133180,\n",
      "            \"trackId\": 1441133197,\n",
      "            \"artistName\": \"The Beatles\",\n",
      "            \"collectionName\": \"The Beatles (The White Album)\",\n",
      "            \"trackName\": \"Back In the U.S.S.R.\",\n",
      "            \"collectionCensoredName\": \"The Beatles (The White Album)\",\n",
      "            \"trackCensoredName\": \"Back In the U.S.S.R.\",\n",
      "            \"artistViewUrl\": \"https://music.apple.com/us/artist/the-beatles/136975?uo=4\",\n",
      "            \"collectionViewUrl\": \"https://music.apple.com/us/album/back-in-the-u-s-s-r/1441133180?i=1441133197&uo=4\",\n",
      "            \"trackViewUrl\": \"https://music.apple.com/us/album/back-in-the-u-s-s-r/1441133180?i=1441133197&uo=4\",\n",
      "            \"previewUrl\": \"https://audio-ssl.itunes.apple.com/itunes-assets/AudioPreview115/v4/92/db/7e/92db7eb0-73df-11a5-c0f8-3c09b49ba10d/mzaf_12637010066616668216.plus.aac.p.m4a\",\n",
      "            \"artworkUrl30\": \"https://is3-ssl.mzstatic.com/image/thumb/Music125/v4/16/fe/6a/16fe6a77-f15a-a4e3-1f92-cda58964c7d5/source/30x30bb.jpg\",\n",
      "            \"artworkUrl60\": \"https://is3-ssl.mzstatic.com/image/thumb/Music125/v4/16/fe/6a/16fe6a77-f15a-a4e3-1f92-cda58964c7d5/source/60x60bb.jpg\",\n",
      "            \"artworkUrl100\": \"https://is3-ssl.mzstatic.com/image/thumb/Music125/v4/16/fe/6a/16fe6a77-f15a-a4e3-1f92-cda58964c7d5/source/100x100bb.jpg\",\n",
      "            \"collectionPrice\": 19.99,\n",
      "            \"trackPrice\": 1.29,\n",
      "            \"releaseDate\": \"1968-11-22T12:00:00Z\",\n",
      "            \"collectionExplicitness\": \"notExplicit\",\n",
      "            \"trackExplicitness\": \"notExplicit\",\n",
      "            \"discCount\": 3,\n",
      "            \"discNumber\": 1,\n",
      "            \"trackCount\": 17,\n",
      "            \"trackNumber\": 1,\n",
      "            \"trackTimeMillis\": 162453,\n",
      "            \"country\": \"USA\",\n",
      "            \"currency\": \"USD\",\n",
      "            \"primaryGenreName\": \"Pop\",\n",
      "            \"isStreamable\": true\n",
      "        },\n",
      "        {\n",
      "            \"wrapperType\": \"track\",\n",
      "            \"kind\": \"song\",\n",
      "            \"artistId\": 136975,\n",
      "            \"collectionId\": 1441133180,\n",
      "            \"trackId\": 1441133428,\n",
      "            \"artistName\": \"The Beatles\",\n",
      "            \"collectionName\": \"The Beatles (The White Album)\",\n",
      "            \"trackName\": \"Dear Prudence\",\n",
      "            \"collectionCensoredName\": \"The Beatles (The White Album)\",\n",
      "            \"trackCensoredName\": \"Dear Prudence\",\n",
      "            \"artistViewUrl\": \"https://music.apple.com/us/artist/the-beatles/136975?uo=4\",\n",
      "            \"collectionViewUrl\": \"https://music.apple.com/us/album/dear-prudence/1441133180?i=1441133428&uo=4\",\n",
      "            \"trackViewUrl\": \"https://music.apple.com/us/album/dear-prudence/1441133180?i=1441133428&uo=4\",\n",
      "            \"previewUrl\": \"https://audio-ssl.itunes.apple.com/itunes-assets/AudioPreview115/v4/88/1c/72/881c723e-9bd5-0619-c803-4022e4da642a/mzaf_2961717660523968849.plus.aac.p.m4a\",\n",
      "            \"artworkUrl30\": \"https://is3-ssl.mzstatic.com/image/thumb/Music125/v4/16/fe/6a/16fe6a77-f15a-a4e3-1f92-cda58964c7d5/source/30x30bb.jpg\",\n",
      "            \"artworkUrl60\": \"https://is3-ssl.mzstatic.com/image/thumb/Music125/v4/16/fe/6a/16fe6a77-f15a-a4e3-1f92-cda58964c7d5/source/60x60bb.jpg\",\n",
      "            \"artworkUrl100\": \"https://is3-ssl.mzstatic.com/image/thumb/Music125/v4/16/fe/6a/16fe6a77-f15a-a4e3-1f92-cda58964c7d5/source/100x100bb.jpg\",\n",
      "            \"collectionPrice\": 19.99,\n",
      "            \"trackPrice\": 1.29,\n",
      "            \"releaseDate\": \"1968-11-22T12:00:00Z\",\n",
      "            \"collectionExplicitness\": \"notExplicit\",\n",
      "            \"trackExplicitness\": \"notExplicit\",\n",
      "            \"discCount\": 3,\n",
      "            \"discNumber\": 1,\n",
      "            \"trackCount\": 17,\n",
      "            \"trackNumber\": 2,\n",
      "            \"trackTimeMillis\": 235773,\n",
      "            \"country\": \"USA\",\n",
      "            \"currency\": \"USD\",\n",
      "            \"primaryGenreName\": \"Pop\",\n",
      "            \"isStreamable\": true\n",
      "        },\n",
      "        {\n",
      "            \"wrapperType\": \"track\",\n",
      "            \"kind\": \"song\",\n",
      "            \"artistId\": 136975,\n",
      "            \"collectionId\": 1441133180,\n",
      "            \"trackId\": 1441133857,\n",
      "            \"artistName\": \"The Beatles\",\n",
      "            \"collectionName\": \"The Beatles (The White Album)\",\n",
      "            \"trackName\": \"Rocky Raccoon\",\n",
      "            \"collectionCensoredName\": \"The Beatles (The White Album)\",\n",
      "            \"trackCensoredName\": \"Rocky Raccoon\",\n",
      "            \"artistViewUrl\": \"https://music.apple.com/us/artist/the-beatles/136975?uo=4\",\n",
      "            \"collectionViewUrl\": \"https://music.apple.com/us/album/rocky-raccoon/1441133180?i=1441133857&uo=4\",\n",
      "            \"trackViewUrl\": \"https://music.apple.com/us/album/rocky-raccoon/1441133180?i=1441133857&uo=4\",\n",
      "            \"previewUrl\": \"https://audio-ssl.itunes.apple.com/itunes-assets/AudioPreview125/v4/67/d5/56/67d5563f-1636-8d19-fd6a-451dddcd2929/mzaf_15933613684822892611.plus.aac.p.m4a\",\n",
      "            \"artworkUrl30\": \"https://is3-ssl.mzstatic.com/image/thumb/Music125/v4/16/fe/6a/16fe6a77-f15a-a4e3-1f92-cda58964c7d5/source/30x30bb.jpg\",\n",
      "            \"artworkUrl60\": \"https://is3-ssl.mzstatic.com/image/thumb/Music125/v4/16/fe/6a/16fe6a77-f15a-a4e3-1f92-cda58964c7d5/source/60x60bb.jpg\",\n",
      "            \"artworkUrl100\": \"https://is3-ssl.mzstatic.com/image/thumb/Music125/v4/16/fe/6a/16fe6a77-f15a-a4e3-1f92-cda58964c7d5/source/100x100bb.jpg\",\n",
      "            \"collectionPrice\": 19.99,\n",
      "            \"trackPrice\": 1.29,\n",
      "            \"releaseDate\": \"1968-11-22T12:00:00Z\",\n",
      "            \"collectionExplicitness\": \"notExplicit\",\n",
      "            \"trackExplicitness\": \"notExplicit\",\n",
      "            \"discCount\": 3,\n",
      "            \"discNumber\": 1,\n",
      "            \"trackCount\": 17,\n",
      "            \"trackNumber\": 13,\n",
      "            \"trackTimeMillis\": 213107,\n",
      "            \"country\": \"USA\",\n",
      "            \"currency\": \"USD\",\n",
      "            \"primaryGenreName\": \"Rock\",\n",
      "            \"isStreamable\": true\n",
      "        },\n",
      "        {\n",
      "            \"wrapperType\": \"track\",\n",
      "            \"kind\": \"song\",\n",
      "            \"artistId\": 136975,\n",
      "            \"collectionId\": 1441133100,\n",
      "            \"trackId\": 1441133101,\n",
      "            \"artistName\": \"The Beatles\",\n",
      "            \"collectionName\": \"The Beatles 1967-1970 (The Blue Album)\",\n",
      "            \"trackName\": \"Strawberry Fields Forever\",\n",
      "            \"collectionCensoredName\": \"The Beatles 1967-1970 (The Blue Album)\",\n",
      "            \"trackCensoredName\": \"Strawberry Fields Forever\",\n",
      "            \"artistViewUrl\": \"https://music.apple.com/us/artist/the-beatles/136975?uo=4\",\n",
      "            \"collectionViewUrl\": \"https://music.apple.com/us/album/strawberry-fields-forever/1441133100?i=1441133101&uo=4\",\n",
      "            \"trackViewUrl\": \"https://music.apple.com/us/album/strawberry-fields-forever/1441133100?i=1441133101&uo=4\",\n",
      "            \"previewUrl\": \"https://audio-ssl.itunes.apple.com/itunes-assets/AudioPreview115/v4/10/b1/83/10b18366-925f-96e3-385a-c559c0524450/mzaf_16297552873588091577.plus.aac.p.m4a\",\n",
      "            \"artworkUrl30\": \"https://is1-ssl.mzstatic.com/image/thumb/Music125/v4/27/7e/ef/277eefc6-f30a-cf5d-6e84-a80c435f36b0/source/30x30bb.jpg\",\n",
      "            \"artworkUrl60\": \"https://is1-ssl.mzstatic.com/image/thumb/Music125/v4/27/7e/ef/277eefc6-f30a-cf5d-6e84-a80c435f36b0/source/60x60bb.jpg\",\n",
      "            \"artworkUrl100\": \"https://is1-ssl.mzstatic.com/image/thumb/Music125/v4/27/7e/ef/277eefc6-f30a-cf5d-6e84-a80c435f36b0/source/100x100bb.jpg\",\n",
      "            \"collectionPrice\": 19.99,\n",
      "            \"trackPrice\": 1.29,\n",
      "            \"releaseDate\": \"1967-02-13T12:00:00Z\",\n",
      "            \"collectionExplicitness\": \"notExplicit\",\n",
      "            \"trackExplicitness\": \"notExplicit\",\n",
      "            \"discCount\": 2,\n",
      "            \"discNumber\": 1,\n",
      "            \"trackCount\": 14,\n",
      "            \"trackNumber\": 1,\n",
      "            \"trackTimeMillis\": 247933,\n",
      "            \"country\": \"USA\",\n",
      "            \"currency\": \"USD\",\n",
      "            \"primaryGenreName\": \"Rock\",\n",
      "            \"isStreamable\": true\n",
      "        },\n",
      "        {\n",
      "            \"wrapperType\": \"track\",\n",
      "            \"kind\": \"song\",\n",
      "            \"artistId\": 136975,\n",
      "            \"collectionId\": 1441133100,\n",
      "            \"trackId\": 1441133286,\n",
      "            \"artistName\": \"The Beatles\",\n",
      "            \"collectionName\": \"The Beatles 1967-1970 (The Blue Album)\",\n",
      "            \"trackName\": \"Don't Let Me Down\",\n",
      "            \"collectionCensoredName\": \"The Beatles 1967-1970 (The Blue Album)\",\n",
      "            \"trackCensoredName\": \"Don't Let Me Down\",\n",
      "            \"artistViewUrl\": \"https://music.apple.com/us/artist/the-beatles/136975?uo=4\",\n",
      "            \"collectionViewUrl\": \"https://music.apple.com/us/album/dont-let-me-down/1441133100?i=1441133286&uo=4\",\n",
      "            \"trackViewUrl\": \"https://music.apple.com/us/album/dont-let-me-down/1441133100?i=1441133286&uo=4\",\n",
      "            \"previewUrl\": \"https://audio-ssl.itunes.apple.com/itunes-assets/AudioPreview125/v4/0b/e7/46/0be74617-9752-198e-df1b-f89411ecfc89/mzaf_16981752119552345332.plus.aac.p.m4a\",\n",
      "            \"artworkUrl30\": \"https://is1-ssl.mzstatic.com/image/thumb/Music125/v4/27/7e/ef/277eefc6-f30a-cf5d-6e84-a80c435f36b0/source/30x30bb.jpg\",\n",
      "            \"artworkUrl60\": \"https://is1-ssl.mzstatic.com/image/thumb/Music125/v4/27/7e/ef/277eefc6-f30a-cf5d-6e84-a80c435f36b0/source/60x60bb.jpg\",\n",
      "            \"artworkUrl100\": \"https://is1-ssl.mzstatic.com/image/thumb/Music125/v4/27/7e/ef/277eefc6-f30a-cf5d-6e84-a80c435f36b0/source/100x100bb.jpg\",\n",
      "            \"collectionPrice\": 19.99,\n",
      "            \"trackPrice\": 1.29,\n",
      "            \"releaseDate\": \"1969-04-11T12:00:00Z\",\n",
      "            \"collectionExplicitness\": \"notExplicit\",\n",
      "            \"trackExplicitness\": \"notExplicit\",\n",
      "            \"discCount\": 2,\n",
      "            \"discNumber\": 2,\n",
      "            \"trackCount\": 14,\n",
      "            \"trackNumber\": 5,\n",
      "            \"trackTimeMillis\": 215733,\n",
      "            \"country\": \"USA\",\n",
      "            \"currency\": \"USD\",\n",
      "            \"primaryGenreName\": \"Rock\",\n",
      "            \"isStreamable\": true\n",
      "        },\n",
      "        {\n",
      "            \"wrapperType\": \"track\",\n",
      "            \"kind\": \"song\",\n",
      "            \"artistId\": 136975,\n",
      "            \"collectionId\": 1441133180,\n",
      "            \"trackId\": 1441133910,\n",
      "            \"artistName\": \"The Beatles\",\n",
      "            \"collectionName\": \"The Beatles (The White Album)\",\n",
      "            \"trackName\": \"I Will\",\n",
      "            \"collectionCensoredName\": \"The Beatles (The White Album)\",\n",
      "            \"trackCensoredName\": \"I Will\",\n",
      "            \"artistViewUrl\": \"https://music.apple.com/us/artist/the-beatles/136975?uo=4\",\n",
      "            \"collectionViewUrl\": \"https://music.apple.com/us/album/i-will/1441133180?i=1441133910&uo=4\",\n",
      "            \"trackViewUrl\": \"https://music.apple.com/us/album/i-will/1441133180?i=1441133910&uo=4\",\n",
      "            \"previewUrl\": \"https://audio-ssl.itunes.apple.com/itunes-assets/AudioPreview115/v4/5f/f1/32/5ff13279-7003-5906-00a4-2ee6695e366e/mzaf_8537106126305816357.plus.aac.p.m4a\",\n",
      "            \"artworkUrl30\": \"https://is3-ssl.mzstatic.com/image/thumb/Music125/v4/16/fe/6a/16fe6a77-f15a-a4e3-1f92-cda58964c7d5/source/30x30bb.jpg\",\n",
      "            \"artworkUrl60\": \"https://is3-ssl.mzstatic.com/image/thumb/Music125/v4/16/fe/6a/16fe6a77-f15a-a4e3-1f92-cda58964c7d5/source/60x60bb.jpg\",\n",
      "            \"artworkUrl100\": \"https://is3-ssl.mzstatic.com/image/thumb/Music125/v4/16/fe/6a/16fe6a77-f15a-a4e3-1f92-cda58964c7d5/source/100x100bb.jpg\",\n",
      "            \"collectionPrice\": 19.99,\n",
      "            \"trackPrice\": 1.29,\n",
      "            \"releaseDate\": \"1968-11-22T12:00:00Z\",\n",
      "            \"collectionExplicitness\": \"notExplicit\",\n",
      "            \"trackExplicitness\": \"notExplicit\",\n",
      "            \"discCount\": 3,\n",
      "            \"discNumber\": 1,\n",
      "            \"trackCount\": 17,\n",
      "            \"trackNumber\": 16,\n",
      "            \"trackTimeMillis\": 105933,\n",
      "            \"country\": \"USA\",\n",
      "            \"currency\": \"USD\",\n",
      "            \"primaryGenreName\": \"Rock\",\n",
      "            \"isStreamable\": true\n",
      "        },\n",
      "        {\n",
      "            \"wrapperType\": \"track\",\n",
      "            \"kind\": \"song\",\n",
      "            \"artistId\": 136975,\n",
      "            \"collectionId\": 1441133180,\n",
      "            \"trackId\": 1441134207,\n",
      "            \"artistName\": \"The Beatles\",\n",
      "            \"collectionName\": \"The Beatles (The White Album)\",\n",
      "            \"trackName\": \"Helter Skelter\",\n",
      "            \"collectionCensoredName\": \"The Beatles (The White Album)\",\n",
      "            \"trackCensoredName\": \"Helter Skelter\",\n",
      "            \"artistViewUrl\": \"https://music.apple.com/us/artist/the-beatles/136975?uo=4\",\n",
      "            \"collectionViewUrl\": \"https://music.apple.com/us/album/helter-skelter/1441133180?i=1441134207&uo=4\",\n",
      "            \"trackViewUrl\": \"https://music.apple.com/us/album/helter-skelter/1441133180?i=1441134207&uo=4\",\n",
      "            \"previewUrl\": \"https://audio-ssl.itunes.apple.com/itunes-assets/AudioPreview115/v4/7f/b2/18/7fb218e8-a685-34e1-2e3e-47bd8363fe39/mzaf_8246299374262626688.plus.aac.p.m4a\",\n",
      "            \"artworkUrl30\": \"https://is3-ssl.mzstatic.com/image/thumb/Music125/v4/16/fe/6a/16fe6a77-f15a-a4e3-1f92-cda58964c7d5/source/30x30bb.jpg\",\n",
      "            \"artworkUrl60\": \"https://is3-ssl.mzstatic.com/image/thumb/Music125/v4/16/fe/6a/16fe6a77-f15a-a4e3-1f92-cda58964c7d5/source/60x60bb.jpg\",\n",
      "            \"artworkUrl100\": \"https://is3-ssl.mzstatic.com/image/thumb/Music125/v4/16/fe/6a/16fe6a77-f15a-a4e3-1f92-cda58964c7d5/source/100x100bb.jpg\",\n",
      "            \"collectionPrice\": 19.99,\n",
      "            \"trackPrice\": 1.29,\n",
      "            \"releaseDate\": \"1968-11-22T12:00:00Z\",\n",
      "            \"collectionExplicitness\": \"notExplicit\",\n",
      "            \"trackExplicitness\": \"notExplicit\",\n",
      "            \"discCount\": 3,\n",
      "            \"discNumber\": 2,\n",
      "            \"trackCount\": 13,\n",
      "            \"trackNumber\": 6,\n",
      "            \"trackTimeMillis\": 269787,\n",
      "            \"country\": \"USA\",\n",
      "            \"currency\": \"USD\",\n",
      "            \"primaryGenreName\": \"Rock\",\n",
      "            \"isStreamable\": true\n",
      "        },\n",
      "        {\n",
      "            \"wrapperType\": \"track\",\n",
      "            \"kind\": \"song\",\n",
      "            \"artistId\": 136975,\n",
      "            \"collectionId\": 1441133100,\n",
      "            \"trackId\": 1441133272,\n",
      "            \"artistName\": \"The Beatles\",\n",
      "            \"collectionName\": \"The Beatles 1967-1970 (The Blue Album)\",\n",
      "            \"trackName\": \"I Am the Walrus\",\n",
      "            \"collectionCensoredName\": \"The Beatles 1967-1970 (The Blue Album)\",\n",
      "            \"trackCensoredName\": \"I Am the Walrus\",\n",
      "            \"artistViewUrl\": \"https://music.apple.com/us/artist/the-beatles/136975?uo=4\",\n",
      "            \"collectionViewUrl\": \"https://music.apple.com/us/album/i-am-the-walrus/1441133100?i=1441133272&uo=4\",\n",
      "            \"trackViewUrl\": \"https://music.apple.com/us/album/i-am-the-walrus/1441133100?i=1441133272&uo=4\",\n",
      "            \"previewUrl\": \"https://audio-ssl.itunes.apple.com/itunes-assets/AudioPreview115/v4/d1/84/e4/d184e42f-33c2-75a1-01a8-77dc62fc41fc/mzaf_7533979701230376452.plus.aac.p.m4a\",\n",
      "            \"artworkUrl30\": \"https://is1-ssl.mzstatic.com/image/thumb/Music125/v4/27/7e/ef/277eefc6-f30a-cf5d-6e84-a80c435f36b0/source/30x30bb.jpg\",\n",
      "            \"artworkUrl60\": \"https://is1-ssl.mzstatic.com/image/thumb/Music125/v4/27/7e/ef/277eefc6-f30a-cf5d-6e84-a80c435f36b0/source/60x60bb.jpg\",\n",
      "            \"artworkUrl100\": \"https://is1-ssl.mzstatic.com/image/thumb/Music125/v4/27/7e/ef/277eefc6-f30a-cf5d-6e84-a80c435f36b0/source/100x100bb.jpg\",\n",
      "            \"collectionPrice\": 19.99,\n",
      "            \"trackPrice\": 1.29,\n",
      "            \"releaseDate\": \"1967-11-24T12:00:00Z\",\n",
      "            \"collectionExplicitness\": \"notExplicit\",\n",
      "            \"trackExplicitness\": \"notExplicit\",\n",
      "            \"discCount\": 2,\n",
      "            \"discNumber\": 1,\n",
      "            \"trackCount\": 14,\n",
      "            \"trackNumber\": 8,\n",
      "            \"trackTimeMillis\": 275680,\n",
      "            \"country\": \"USA\",\n",
      "            \"currency\": \"USD\",\n",
      "            \"primaryGenreName\": \"Rock\",\n",
      "            \"isStreamable\": true\n",
      "        },\n",
      "        {\n",
      "            \"wrapperType\": \"track\",\n",
      "            \"kind\": \"song\",\n",
      "            \"artistId\": 27068619,\n",
      "            \"collectionId\": 390798460,\n",
      "            \"trackId\": 390798510,\n",
      "            \"artistName\": \"Shy Child\",\n",
      "            \"collectionName\": \"Liquid Love\",\n",
      "            \"trackName\": \"The Beatles\",\n",
      "            \"collectionCensoredName\": \"Liquid Love\",\n",
      "            \"trackCensoredName\": \"The Beatles\",\n",
      "            \"artistViewUrl\": \"https://music.apple.com/us/artist/shy-child/27068619?uo=4\",\n",
      "            \"collectionViewUrl\": \"https://music.apple.com/us/album/the-beatles/390798460?i=390798510&uo=4\",\n",
      "            \"trackViewUrl\": \"https://music.apple.com/us/album/the-beatles/390798460?i=390798510&uo=4\",\n",
      "            \"previewUrl\": \"https://audio-ssl.itunes.apple.com/itunes-assets/AudioPreview115/v4/a8/41/60/a841604e-ae62-6ab3-c818-90af7bd1fde5/mzaf_7049348694798606016.plus.aac.p.m4a\",\n",
      "            \"artworkUrl30\": \"https://is3-ssl.mzstatic.com/image/thumb/Music/v4/7c/ec/4d/7cec4d65-4077-8cfe-83c4-e3b6bf2abaaf/source/30x30bb.jpg\",\n",
      "            \"artworkUrl60\": \"https://is3-ssl.mzstatic.com/image/thumb/Music/v4/7c/ec/4d/7cec4d65-4077-8cfe-83c4-e3b6bf2abaaf/source/60x60bb.jpg\",\n",
      "            \"artworkUrl100\": \"https://is3-ssl.mzstatic.com/image/thumb/Music/v4/7c/ec/4d/7cec4d65-4077-8cfe-83c4-e3b6bf2abaaf/source/100x100bb.jpg\",\n",
      "            \"collectionPrice\": 6.99,\n",
      "            \"trackPrice\": 0.99,\n",
      "            \"releaseDate\": \"2010-03-15T12:00:00Z\",\n",
      "            \"collectionExplicitness\": \"notExplicit\",\n",
      "            \"trackExplicitness\": \"notExplicit\",\n",
      "            \"discCount\": 1,\n",
      "            \"discNumber\": 1,\n",
      "            \"trackCount\": 11,\n",
      "            \"trackNumber\": 5,\n",
      "            \"trackTimeMillis\": 264200,\n",
      "            \"country\": \"USA\",\n",
      "            \"currency\": \"USD\",\n",
      "            \"primaryGenreName\": \"Dance\",\n",
      "            \"isStreamable\": true\n",
      "        },\n",
      "        {\n",
      "            \"wrapperType\": \"audiobook\",\n",
      "            \"artistId\": 310801194,\n",
      "            \"collectionId\": 1454533897,\n",
      "            \"artistName\": \"Paul Charles\",\n",
      "            \"collectionName\": \"The Beatles: The Pocket Essential Guide\",\n",
      "            \"collectionCensoredName\": \"The Beatles: The Pocket Essential Guide\",\n",
      "            \"artistViewUrl\": \"https://books.apple.com/us/author/paul-charles/id310801194?uo=4\",\n",
      "            \"collectionViewUrl\": \"https://books.apple.com/us/audiobook/the-beatles-the-pocket-essential-guide/id1454533897?uo=4\",\n",
      "            \"artworkUrl60\": \"https://is5-ssl.mzstatic.com/image/thumb/Music114/v4/6a/9b/28/6a9b2839-c8fe-55a6-0169-46d9bdc54b88/9781848391994_cover.jpg/60x60bb.jpg\",\n",
      "            \"artworkUrl100\": \"https://is5-ssl.mzstatic.com/image/thumb/Music114/v4/6a/9b/28/6a9b2839-c8fe-55a6-0169-46d9bdc54b88/9781848391994_cover.jpg/100x100bb.jpg\",\n",
      "            \"collectionPrice\": 6.99,\n",
      "            \"collectionExplicitness\": \"notExplicit\",\n",
      "            \"trackCount\": 1,\n",
      "            \"copyright\": \"\\u00a9 2016 Summersdale Publishing\",\n",
      "            \"country\": \"USA\",\n",
      "            \"currency\": \"USD\",\n",
      "            \"releaseDate\": \"2016-03-15T07:00:00Z\",\n",
      "            \"primaryGenreName\": \"Nonfiction\",\n",
      "            \"previewUrl\": \"https://audio-ssl.itunes.apple.com/itunes-assets/AudioPreview123/v4/46/74/22/4674220b-ec41-c058-2c87-4bd1d7f31eab/mzaf_6782547560392152472.std.aac.p.m4a\",\n",
      "            \"description\": \"The most successful entity in the history of the entertainment business, and still as popular as ever forty years on, The Beatles' story is a classic rags to riches tale. Here, every official Beatles single and album is discussed, along with a detailed discussion of how the four working-class Liverpool lads met and, using the songs and records as signposts, a journey through their colourful, historic and celebrated career.\"\n",
      "        },\n",
      "        {\n",
      "            \"wrapperType\": \"track\",\n",
      "            \"kind\": \"song\",\n",
      "            \"artistId\": 136975,\n",
      "            \"collectionId\": 1441133180,\n",
      "            \"trackId\": 1441133681,\n",
      "            \"artistName\": \"The Beatles\",\n",
      "            \"collectionName\": \"The Beatles (The White Album)\",\n",
      "            \"trackName\": \"Happiness Is a Warm Gun\",\n",
      "            \"collectionCensoredName\": \"The Beatles (The White Album)\",\n",
      "            \"trackCensoredName\": \"Happiness Is a Warm Gun\",\n",
      "            \"artistViewUrl\": \"https://music.apple.com/us/artist/the-beatles/136975?uo=4\",\n",
      "            \"collectionViewUrl\": \"https://music.apple.com/us/album/happiness-is-a-warm-gun/1441133180?i=1441133681&uo=4\",\n",
      "            \"trackViewUrl\": \"https://music.apple.com/us/album/happiness-is-a-warm-gun/1441133180?i=1441133681&uo=4\",\n",
      "            \"previewUrl\": \"https://audio-ssl.itunes.apple.com/itunes-assets/AudioPreview115/v4/15/e6/ee/15e6eec1-f108-e81c-23b5-266c678a584e/mzaf_9789711783485346692.plus.aac.p.m4a\",\n",
      "            \"artworkUrl30\": \"https://is3-ssl.mzstatic.com/image/thumb/Music125/v4/16/fe/6a/16fe6a77-f15a-a4e3-1f92-cda58964c7d5/source/30x30bb.jpg\",\n",
      "            \"artworkUrl60\": \"https://is3-ssl.mzstatic.com/image/thumb/Music125/v4/16/fe/6a/16fe6a77-f15a-a4e3-1f92-cda58964c7d5/source/60x60bb.jpg\",\n",
      "            \"artworkUrl100\": \"https://is3-ssl.mzstatic.com/image/thumb/Music125/v4/16/fe/6a/16fe6a77-f15a-a4e3-1f92-cda58964c7d5/source/100x100bb.jpg\",\n",
      "            \"collectionPrice\": 19.99,\n",
      "            \"trackPrice\": 1.29,\n",
      "            \"releaseDate\": \"1968-11-22T12:00:00Z\",\n",
      "            \"collectionExplicitness\": \"notExplicit\",\n",
      "            \"trackExplicitness\": \"notExplicit\",\n",
      "            \"discCount\": 3,\n",
      "            \"discNumber\": 1,\n",
      "            \"trackCount\": 17,\n",
      "            \"trackNumber\": 8,\n",
      "            \"trackTimeMillis\": 164547,\n",
      "            \"country\": \"USA\",\n",
      "            \"currency\": \"USD\",\n",
      "            \"primaryGenreName\": \"Rock\",\n",
      "            \"isStreamable\": true\n",
      "        },\n",
      "        {\n",
      "            \"wrapperType\": \"track\",\n",
      "            \"kind\": \"song\",\n",
      "            \"artistId\": 136975,\n",
      "            \"collectionId\": 1441133100,\n",
      "            \"trackId\": 1441133506,\n",
      "            \"artistName\": \"The Beatles\",\n",
      "            \"collectionName\": \"The Beatles 1967-1970 (The Blue Album)\",\n",
      "            \"trackName\": \"Across the Universe\",\n",
      "            \"collectionCensoredName\": \"The Beatles 1967-1970 (The Blue Album)\",\n",
      "            \"trackCensoredName\": \"Across the Universe\",\n",
      "            \"artistViewUrl\": \"https://music.apple.com/us/artist/the-beatles/136975?uo=4\",\n",
      "            \"collectionViewUrl\": \"https://music.apple.com/us/album/across-the-universe/1441133100?i=1441133506&uo=4\",\n",
      "            \"trackViewUrl\": \"https://music.apple.com/us/album/across-the-universe/1441133100?i=1441133506&uo=4\",\n",
      "            \"previewUrl\": \"https://audio-ssl.itunes.apple.com/itunes-assets/AudioPreview115/v4/87/b3/a9/87b3a90f-3186-e76d-e890-9d572130b420/mzaf_9448094751682817414.plus.aac.p.m4a\",\n",
      "            \"artworkUrl30\": \"https://is1-ssl.mzstatic.com/image/thumb/Music125/v4/27/7e/ef/277eefc6-f30a-cf5d-6e84-a80c435f36b0/source/30x30bb.jpg\",\n",
      "            \"artworkUrl60\": \"https://is1-ssl.mzstatic.com/image/thumb/Music125/v4/27/7e/ef/277eefc6-f30a-cf5d-6e84-a80c435f36b0/source/60x60bb.jpg\",\n",
      "            \"artworkUrl100\": \"https://is1-ssl.mzstatic.com/image/thumb/Music125/v4/27/7e/ef/277eefc6-f30a-cf5d-6e84-a80c435f36b0/source/100x100bb.jpg\",\n",
      "            \"collectionPrice\": 19.99,\n",
      "            \"trackPrice\": 1.29,\n",
      "            \"releaseDate\": \"1969-12-12T12:00:00Z\",\n",
      "            \"collectionExplicitness\": \"notExplicit\",\n",
      "            \"trackExplicitness\": \"notExplicit\",\n",
      "            \"discCount\": 2,\n",
      "            \"discNumber\": 2,\n",
      "            \"trackCount\": 14,\n",
      "            \"trackNumber\": 13,\n",
      "            \"trackTimeMillis\": 229787,\n",
      "            \"country\": \"USA\",\n",
      "            \"currency\": \"USD\",\n",
      "            \"primaryGenreName\": \"Rock\",\n",
      "            \"isStreamable\": true\n",
      "        },\n",
      "        {\n",
      "            \"wrapperType\": \"track\",\n",
      "            \"kind\": \"song\",\n",
      "            \"artistId\": 136975,\n",
      "            \"collectionId\": 1441132965,\n",
      "            \"trackId\": 1441133348,\n",
      "            \"artistName\": \"The Beatles\",\n",
      "            \"collectionName\": \"The Beatles 1962-1966 (The Red Album)\",\n",
      "            \"trackName\": \"I Want to Hold Your Hand\",\n",
      "            \"collectionCensoredName\": \"The Beatles 1962-1966 (The Red Album)\",\n",
      "            \"trackCensoredName\": \"I Want to Hold Your Hand\",\n",
      "            \"artistViewUrl\": \"https://music.apple.com/us/artist/the-beatles/136975?uo=4\",\n",
      "            \"collectionViewUrl\": \"https://music.apple.com/us/album/i-want-to-hold-your-hand/1441132965?i=1441133348&uo=4\",\n",
      "            \"trackViewUrl\": \"https://music.apple.com/us/album/i-want-to-hold-your-hand/1441132965?i=1441133348&uo=4\",\n",
      "            \"previewUrl\": \"https://audio-ssl.itunes.apple.com/itunes-assets/AudioPreview115/v4/22/f3/50/22f350ed-0b23-faf7-4de1-f347407709ba/mzaf_9517644380742926768.plus.aac.p.m4a\",\n",
      "            \"artworkUrl30\": \"https://is4-ssl.mzstatic.com/image/thumb/Music114/v4/1e/6a/db/1e6adb66-2feb-87b0-6649-af8c11d2fa29/source/30x30bb.jpg\",\n",
      "            \"artworkUrl60\": \"https://is4-ssl.mzstatic.com/image/thumb/Music114/v4/1e/6a/db/1e6adb66-2feb-87b0-6649-af8c11d2fa29/source/60x60bb.jpg\",\n",
      "            \"artworkUrl100\": \"https://is4-ssl.mzstatic.com/image/thumb/Music114/v4/1e/6a/db/1e6adb66-2feb-87b0-6649-af8c11d2fa29/source/100x100bb.jpg\",\n",
      "            \"collectionPrice\": 19.99,\n",
      "            \"trackPrice\": 1.29,\n",
      "            \"releaseDate\": \"1963-11-29T12:00:00Z\",\n",
      "            \"collectionExplicitness\": \"notExplicit\",\n",
      "            \"trackExplicitness\": \"notExplicit\",\n",
      "            \"discCount\": 2,\n",
      "            \"discNumber\": 1,\n",
      "            \"trackCount\": 13,\n",
      "            \"trackNumber\": 5,\n",
      "            \"trackTimeMillis\": 146720,\n",
      "            \"country\": \"USA\",\n",
      "            \"currency\": \"USD\",\n",
      "            \"primaryGenreName\": \"Rock\",\n",
      "            \"isStreamable\": true\n",
      "        },\n",
      "        {\n",
      "            \"wrapperType\": \"track\",\n",
      "            \"kind\": \"song\",\n",
      "            \"artistId\": 829356035,\n",
      "            \"collectionId\": 1440842514,\n",
      "            \"trackId\": 1440842851,\n",
      "            \"artistName\": \"Rae Sremmurd\",\n",
      "            \"collectionName\": \"SremmLife 2 (Deluxe)\",\n",
      "            \"trackName\": \"Black Beatles (feat. Gucci Mane)\",\n",
      "            \"collectionCensoredName\": \"SremmLife 2 (Deluxe)\",\n",
      "            \"trackCensoredName\": \"Black Beatles (feat. Gucci Mane)\",\n",
      "            \"artistViewUrl\": \"https://music.apple.com/us/artist/rae-sremmurd/829356035?uo=4\",\n",
      "            \"collectionViewUrl\": \"https://music.apple.com/us/album/black-beatles-feat-gucci-mane/1440842514?i=1440842851&uo=4\",\n",
      "            \"trackViewUrl\": \"https://music.apple.com/us/album/black-beatles-feat-gucci-mane/1440842514?i=1440842851&uo=4\",\n",
      "            \"previewUrl\": \"https://audio-ssl.itunes.apple.com/itunes-assets/AudioPreview115/v4/15/13/d2/1513d27e-466f-ca2f-ca29-5cde087cbc80/mzaf_10138451372715504636.plus.aac.p.m4a\",\n",
      "            \"artworkUrl30\": \"https://is5-ssl.mzstatic.com/image/thumb/Music124/v4/07/a9/fe/07a9fe35-2484-baa7-c4ae-f6c7cfdc8c84/source/30x30bb.jpg\",\n",
      "            \"artworkUrl60\": \"https://is5-ssl.mzstatic.com/image/thumb/Music124/v4/07/a9/fe/07a9fe35-2484-baa7-c4ae-f6c7cfdc8c84/source/60x60bb.jpg\",\n",
      "            \"artworkUrl100\": \"https://is5-ssl.mzstatic.com/image/thumb/Music124/v4/07/a9/fe/07a9fe35-2484-baa7-c4ae-f6c7cfdc8c84/source/100x100bb.jpg\",\n",
      "            \"collectionPrice\": 10.99,\n",
      "            \"trackPrice\": 1.29,\n",
      "            \"releaseDate\": \"2016-08-12T12:00:00Z\",\n",
      "            \"collectionExplicitness\": \"cleaned\",\n",
      "            \"trackExplicitness\": \"cleaned\",\n",
      "            \"discCount\": 1,\n",
      "            \"discNumber\": 1,\n",
      "            \"trackCount\": 14,\n",
      "            \"trackNumber\": 5,\n",
      "            \"trackTimeMillis\": 291890,\n",
      "            \"country\": \"USA\",\n",
      "            \"currency\": \"USD\",\n",
      "            \"primaryGenreName\": \"Hip-Hop/Rap\",\n",
      "            \"contentAdvisoryRating\": \"Clean\",\n",
      "            \"isStreamable\": true\n",
      "        },\n",
      "        {\n",
      "            \"wrapperType\": \"track\",\n",
      "            \"kind\": \"song\",\n",
      "            \"artistId\": 136975,\n",
      "            \"collectionId\": 1474815798,\n",
      "            \"trackId\": 1474815799,\n",
      "            \"artistName\": \"The Beatles\",\n",
      "            \"collectionName\": \"Abbey Road (2019 Mix)\",\n",
      "            \"trackName\": \"Come Together\",\n",
      "            \"collectionCensoredName\": \"Abbey Road (2019 Mix)\",\n",
      "            \"trackCensoredName\": \"Come Together (2019 Mix)\",\n",
      "            \"artistViewUrl\": \"https://music.apple.com/us/artist/the-beatles/136975?uo=4\",\n",
      "            \"collectionViewUrl\": \"https://music.apple.com/us/album/come-together-2019-mix/1474815798?i=1474815799&uo=4\",\n",
      "            \"trackViewUrl\": \"https://music.apple.com/us/album/come-together-2019-mix/1474815798?i=1474815799&uo=4\",\n",
      "            \"previewUrl\": \"https://audio-ssl.itunes.apple.com/itunes-assets/AudioPreview115/v4/79/1a/b0/791ab082-6e6e-cef6-7654-3b32877e15f8/mzaf_12539242327411432039.plus.aac.p.m4a\",\n",
      "            \"artworkUrl30\": \"https://is2-ssl.mzstatic.com/image/thumb/Music114/v4/2a/f9/04/2af904cd-f05a-d5a1-8014-c1387855b56c/source/30x30bb.jpg\",\n",
      "            \"artworkUrl60\": \"https://is2-ssl.mzstatic.com/image/thumb/Music114/v4/2a/f9/04/2af904cd-f05a-d5a1-8014-c1387855b56c/source/60x60bb.jpg\",\n",
      "            \"artworkUrl100\": \"https://is2-ssl.mzstatic.com/image/thumb/Music114/v4/2a/f9/04/2af904cd-f05a-d5a1-8014-c1387855b56c/source/100x100bb.jpg\",\n",
      "            \"collectionPrice\": 9.99,\n",
      "            \"trackPrice\": 1.29,\n",
      "            \"releaseDate\": \"2019-09-20T07:00:00Z\",\n",
      "            \"collectionExplicitness\": \"notExplicit\",\n",
      "            \"trackExplicitness\": \"notExplicit\",\n",
      "            \"discCount\": 1,\n",
      "            \"discNumber\": 1,\n",
      "            \"trackCount\": 17,\n",
      "            \"trackNumber\": 1,\n",
      "            \"trackTimeMillis\": 260200,\n",
      "            \"country\": \"USA\",\n",
      "            \"currency\": \"USD\",\n",
      "            \"primaryGenreName\": \"Rock\",\n",
      "            \"isStreamable\": true\n",
      "        },\n",
      "        {\n",
      "            \"wrapperType\": \"track\",\n",
      "            \"kind\": \"song\",\n",
      "            \"artistId\": 136975,\n",
      "            \"collectionId\": 1582219768,\n",
      "            \"trackId\": 1582223667,\n",
      "            \"artistName\": \"The Beatles\",\n",
      "            \"collectionName\": \"Let It Be (2021 Mix)\",\n",
      "            \"trackName\": \"Let It Be\",\n",
      "            \"collectionCensoredName\": \"Let It Be (2021 Mix)\",\n",
      "            \"trackCensoredName\": \"Let It Be (2021 Mix)\",\n",
      "            \"artistViewUrl\": \"https://music.apple.com/us/artist/the-beatles/136975?uo=4\",\n",
      "            \"collectionViewUrl\": \"https://music.apple.com/us/album/let-it-be-2021-mix/1582219768?i=1582223667&uo=4\",\n",
      "            \"trackViewUrl\": \"https://music.apple.com/us/album/let-it-be-2021-mix/1582219768?i=1582223667&uo=4\",\n",
      "            \"previewUrl\": \"https://audio-ssl.itunes.apple.com/itunes-assets/AudioPreview125/v4/87/9a/e6/879ae67e-5488-bae4-f4cf-dc2680e50002/mzaf_12599982785820130194.plus.aac.p.m4a\",\n",
      "            \"artworkUrl30\": \"https://is5-ssl.mzstatic.com/image/thumb/Music115/v4/69/79/c2/6979c26c-4fe5-3b45-0b9e-588cc9cd0687/source/30x30bb.jpg\",\n",
      "            \"artworkUrl60\": \"https://is5-ssl.mzstatic.com/image/thumb/Music115/v4/69/79/c2/6979c26c-4fe5-3b45-0b9e-588cc9cd0687/source/60x60bb.jpg\",\n",
      "            \"artworkUrl100\": \"https://is5-ssl.mzstatic.com/image/thumb/Music115/v4/69/79/c2/6979c26c-4fe5-3b45-0b9e-588cc9cd0687/source/100x100bb.jpg\",\n",
      "            \"collectionPrice\": 9.99,\n",
      "            \"trackPrice\": 1.29,\n",
      "            \"releaseDate\": \"2021-08-28T07:00:00Z\",\n",
      "            \"collectionExplicitness\": \"notExplicit\",\n",
      "            \"trackExplicitness\": \"notExplicit\",\n",
      "            \"discCount\": 1,\n",
      "            \"discNumber\": 1,\n",
      "            \"trackCount\": 12,\n",
      "            \"trackNumber\": 6,\n",
      "            \"trackTimeMillis\": 243173,\n",
      "            \"country\": \"USA\",\n",
      "            \"currency\": \"USD\",\n",
      "            \"primaryGenreName\": \"Rock\",\n",
      "            \"isStreamable\": true\n",
      "        },\n",
      "        {\n",
      "            \"wrapperType\": \"track\",\n",
      "            \"kind\": \"song\",\n",
      "            \"artistId\": 136975,\n",
      "            \"collectionId\": 1441133100,\n",
      "            \"trackId\": 1441133273,\n",
      "            \"artistName\": \"The Beatles\",\n",
      "            \"collectionName\": \"The Beatles 1967-1970 (The Blue Album)\",\n",
      "            \"trackName\": \"Hello, Goodbye\",\n",
      "            \"collectionCensoredName\": \"The Beatles 1967-1970 (The Blue Album)\",\n",
      "            \"trackCensoredName\": \"Hello, Goodbye\",\n",
      "            \"artistViewUrl\": \"https://music.apple.com/us/artist/the-beatles/136975?uo=4\",\n",
      "            \"collectionViewUrl\": \"https://music.apple.com/us/album/hello-goodbye/1441133100?i=1441133273&uo=4\",\n",
      "            \"trackViewUrl\": \"https://music.apple.com/us/album/hello-goodbye/1441133100?i=1441133273&uo=4\",\n",
      "            \"previewUrl\": \"https://audio-ssl.itunes.apple.com/itunes-assets/AudioPreview125/v4/cf/df/3b/cfdf3bf8-cee3-1312-fe3e-1b9db133550b/mzaf_648629569154526151.plus.aac.p.m4a\",\n",
      "            \"artworkUrl30\": \"https://is1-ssl.mzstatic.com/image/thumb/Music125/v4/27/7e/ef/277eefc6-f30a-cf5d-6e84-a80c435f36b0/source/30x30bb.jpg\",\n",
      "            \"artworkUrl60\": \"https://is1-ssl.mzstatic.com/image/thumb/Music125/v4/27/7e/ef/277eefc6-f30a-cf5d-6e84-a80c435f36b0/source/60x60bb.jpg\",\n",
      "            \"artworkUrl100\": \"https://is1-ssl.mzstatic.com/image/thumb/Music125/v4/27/7e/ef/277eefc6-f30a-cf5d-6e84-a80c435f36b0/source/100x100bb.jpg\",\n",
      "            \"collectionPrice\": 19.99,\n",
      "            \"trackPrice\": 1.29,\n",
      "            \"releaseDate\": \"1967-11-24T12:00:00Z\",\n",
      "            \"collectionExplicitness\": \"notExplicit\",\n",
      "            \"trackExplicitness\": \"notExplicit\",\n",
      "            \"discCount\": 2,\n",
      "            \"discNumber\": 1,\n",
      "            \"trackCount\": 14,\n",
      "            \"trackNumber\": 9,\n",
      "            \"trackTimeMillis\": 209893,\n",
      "            \"country\": \"USA\",\n",
      "            \"currency\": \"USD\",\n",
      "            \"primaryGenreName\": \"Rock\",\n",
      "            \"isStreamable\": true\n",
      "        },\n",
      "        {\n",
      "            \"wrapperType\": \"track\",\n",
      "            \"kind\": \"song\",\n",
      "            \"artistId\": 136975,\n",
      "            \"collectionId\": 1441133180,\n",
      "            \"trackId\": 1441134096,\n",
      "            \"artistName\": \"The Beatles\",\n",
      "            \"collectionName\": \"The Beatles (The White Album)\",\n",
      "            \"trackName\": \"Mother Nature's Son\",\n",
      "            \"collectionCensoredName\": \"The Beatles (The White Album)\",\n",
      "            \"trackCensoredName\": \"Mother Nature's Son\",\n",
      "            \"artistViewUrl\": \"https://music.apple.com/us/artist/the-beatles/136975?uo=4\",\n",
      "            \"collectionViewUrl\": \"https://music.apple.com/us/album/mother-natures-son/1441133180?i=1441134096&uo=4\",\n",
      "            \"trackViewUrl\": \"https://music.apple.com/us/album/mother-natures-son/1441133180?i=1441134096&uo=4\",\n",
      "            \"previewUrl\": \"https://audio-ssl.itunes.apple.com/itunes-assets/AudioPreview115/v4/76/fe/ab/76feabca-f20b-01a5-8010-e2bed8f89e2e/mzaf_317297301474140551.plus.aac.p.m4a\",\n",
      "            \"artworkUrl30\": \"https://is3-ssl.mzstatic.com/image/thumb/Music125/v4/16/fe/6a/16fe6a77-f15a-a4e3-1f92-cda58964c7d5/source/30x30bb.jpg\",\n",
      "            \"artworkUrl60\": \"https://is3-ssl.mzstatic.com/image/thumb/Music125/v4/16/fe/6a/16fe6a77-f15a-a4e3-1f92-cda58964c7d5/source/60x60bb.jpg\",\n",
      "            \"artworkUrl100\": \"https://is3-ssl.mzstatic.com/image/thumb/Music125/v4/16/fe/6a/16fe6a77-f15a-a4e3-1f92-cda58964c7d5/source/100x100bb.jpg\",\n",
      "            \"collectionPrice\": 19.99,\n",
      "            \"trackPrice\": 1.29,\n",
      "            \"releaseDate\": \"1968-11-22T12:00:00Z\",\n",
      "            \"collectionExplicitness\": \"notExplicit\",\n",
      "            \"trackExplicitness\": \"notExplicit\",\n",
      "            \"discCount\": 3,\n",
      "            \"discNumber\": 2,\n",
      "            \"trackCount\": 13,\n",
      "            \"trackNumber\": 3,\n",
      "            \"trackTimeMillis\": 168027,\n",
      "            \"country\": \"USA\",\n",
      "            \"currency\": \"USD\",\n",
      "            \"primaryGenreName\": \"Rock\",\n",
      "            \"isStreamable\": true\n",
      "        },\n",
      "        {\n",
      "            \"wrapperType\": \"track\",\n",
      "            \"kind\": \"song\",\n",
      "            \"artistId\": 136975,\n",
      "            \"collectionId\": 1441133180,\n",
      "            \"trackId\": 1441133915,\n",
      "            \"artistName\": \"The Beatles\",\n",
      "            \"collectionName\": \"The Beatles (The White Album)\",\n",
      "            \"trackName\": \"Julia\",\n",
      "            \"collectionCensoredName\": \"The Beatles (The White Album)\",\n",
      "            \"trackCensoredName\": \"Julia\",\n",
      "            \"artistViewUrl\": \"https://music.apple.com/us/artist/the-beatles/136975?uo=4\",\n",
      "            \"collectionViewUrl\": \"https://music.apple.com/us/album/julia/1441133180?i=1441133915&uo=4\",\n",
      "            \"trackViewUrl\": \"https://music.apple.com/us/album/julia/1441133180?i=1441133915&uo=4\",\n",
      "            \"previewUrl\": \"https://audio-ssl.itunes.apple.com/itunes-assets/AudioPreview115/v4/af/b1/a6/afb1a6db-9fbf-849b-8429-ad6bb92e92de/mzaf_14380737951102381133.plus.aac.p.m4a\",\n",
      "            \"artworkUrl30\": \"https://is3-ssl.mzstatic.com/image/thumb/Music125/v4/16/fe/6a/16fe6a77-f15a-a4e3-1f92-cda58964c7d5/source/30x30bb.jpg\",\n",
      "            \"artworkUrl60\": \"https://is3-ssl.mzstatic.com/image/thumb/Music125/v4/16/fe/6a/16fe6a77-f15a-a4e3-1f92-cda58964c7d5/source/60x60bb.jpg\",\n",
      "            \"artworkUrl100\": \"https://is3-ssl.mzstatic.com/image/thumb/Music125/v4/16/fe/6a/16fe6a77-f15a-a4e3-1f92-cda58964c7d5/source/100x100bb.jpg\",\n",
      "            \"collectionPrice\": 19.99,\n",
      "            \"trackPrice\": 1.29,\n",
      "            \"releaseDate\": \"1968-11-22T12:00:00Z\",\n",
      "            \"collectionExplicitness\": \"notExplicit\",\n",
      "            \"trackExplicitness\": \"notExplicit\",\n",
      "            \"discCount\": 3,\n",
      "            \"discNumber\": 1,\n",
      "            \"trackCount\": 17,\n",
      "            \"trackNumber\": 17,\n",
      "            \"trackTimeMillis\": 174672,\n",
      "            \"country\": \"USA\",\n",
      "            \"currency\": \"USD\",\n",
      "            \"primaryGenreName\": \"Rock\",\n",
      "            \"isStreamable\": true\n",
      "        },\n",
      "        {\n",
      "            \"wrapperType\": \"track\",\n",
      "            \"kind\": \"song\",\n",
      "            \"artistId\": 136975,\n",
      "            \"collectionId\": 1441133100,\n",
      "            \"trackId\": 1441133267,\n",
      "            \"artistName\": \"The Beatles\",\n",
      "            \"collectionName\": \"The Beatles 1967-1970 (The Blue Album)\",\n",
      "            \"trackName\": \"With a Little Help From My Friends\",\n",
      "            \"collectionCensoredName\": \"The Beatles 1967-1970 (The Blue Album)\",\n",
      "            \"trackCensoredName\": \"With a Little Help From My Friends\",\n",
      "            \"artistViewUrl\": \"https://music.apple.com/us/artist/the-beatles/136975?uo=4\",\n",
      "            \"collectionViewUrl\": \"https://music.apple.com/us/album/with-a-little-help-from-my-friends/1441133100?i=1441133267&uo=4\",\n",
      "            \"trackViewUrl\": \"https://music.apple.com/us/album/with-a-little-help-from-my-friends/1441133100?i=1441133267&uo=4\",\n",
      "            \"previewUrl\": \"https://audio-ssl.itunes.apple.com/itunes-assets/AudioPreview125/v4/34/e4/3b/34e43bac-a9a0-0902-c579-1c9666f383fd/mzaf_3788832418702269666.plus.aac.p.m4a\",\n",
      "            \"artworkUrl30\": \"https://is1-ssl.mzstatic.com/image/thumb/Music125/v4/27/7e/ef/277eefc6-f30a-cf5d-6e84-a80c435f36b0/source/30x30bb.jpg\",\n",
      "            \"artworkUrl60\": \"https://is1-ssl.mzstatic.com/image/thumb/Music125/v4/27/7e/ef/277eefc6-f30a-cf5d-6e84-a80c435f36b0/source/60x60bb.jpg\",\n",
      "            \"artworkUrl100\": \"https://is1-ssl.mzstatic.com/image/thumb/Music125/v4/27/7e/ef/277eefc6-f30a-cf5d-6e84-a80c435f36b0/source/100x100bb.jpg\",\n",
      "            \"collectionPrice\": 19.99,\n",
      "            \"trackPrice\": 1.29,\n",
      "            \"releaseDate\": \"1967-06-01T12:00:00Z\",\n",
      "            \"collectionExplicitness\": \"notExplicit\",\n",
      "            \"trackExplicitness\": \"notExplicit\",\n",
      "            \"discCount\": 2,\n",
      "            \"discNumber\": 1,\n",
      "            \"trackCount\": 14,\n",
      "            \"trackNumber\": 4,\n",
      "            \"trackTimeMillis\": 164187,\n",
      "            \"country\": \"USA\",\n",
      "            \"currency\": \"USD\",\n",
      "            \"primaryGenreName\": \"Rock\",\n",
      "            \"isStreamable\": true\n",
      "        },\n",
      "        {\n",
      "            \"wrapperType\": \"track\",\n",
      "            \"kind\": \"song\",\n",
      "            \"artistId\": 136975,\n",
      "            \"collectionId\": 1441133100,\n",
      "            \"trackId\": 1441133268,\n",
      "            \"artistName\": \"The Beatles\",\n",
      "            \"collectionName\": \"The Beatles 1967-1970 (The Blue Album)\",\n",
      "            \"trackName\": \"Lucy In the Sky with Diamonds\",\n",
      "            \"collectionCensoredName\": \"The Beatles 1967-1970 (The Blue Album)\",\n",
      "            \"trackCensoredName\": \"Lucy In the Sky with Diamonds\",\n",
      "            \"artistViewUrl\": \"https://music.apple.com/us/artist/the-beatles/136975?uo=4\",\n",
      "            \"collectionViewUrl\": \"https://music.apple.com/us/album/lucy-in-the-sky-with-diamonds/1441133100?i=1441133268&uo=4\",\n",
      "            \"trackViewUrl\": \"https://music.apple.com/us/album/lucy-in-the-sky-with-diamonds/1441133100?i=1441133268&uo=4\",\n",
      "            \"previewUrl\": \"https://audio-ssl.itunes.apple.com/itunes-assets/AudioPreview125/v4/13/78/52/137852fa-8c60-8784-e971-cfa9e4d3dbc4/mzaf_409171316292759629.plus.aac.p.m4a\",\n",
      "            \"artworkUrl30\": \"https://is1-ssl.mzstatic.com/image/thumb/Music125/v4/27/7e/ef/277eefc6-f30a-cf5d-6e84-a80c435f36b0/source/30x30bb.jpg\",\n",
      "            \"artworkUrl60\": \"https://is1-ssl.mzstatic.com/image/thumb/Music125/v4/27/7e/ef/277eefc6-f30a-cf5d-6e84-a80c435f36b0/source/60x60bb.jpg\",\n",
      "            \"artworkUrl100\": \"https://is1-ssl.mzstatic.com/image/thumb/Music125/v4/27/7e/ef/277eefc6-f30a-cf5d-6e84-a80c435f36b0/source/100x100bb.jpg\",\n",
      "            \"collectionPrice\": 19.99,\n",
      "            \"trackPrice\": 1.29,\n",
      "            \"releaseDate\": \"1967-06-01T12:00:00Z\",\n",
      "            \"collectionExplicitness\": \"notExplicit\",\n",
      "            \"trackExplicitness\": \"notExplicit\",\n",
      "            \"discCount\": 2,\n",
      "            \"discNumber\": 1,\n",
      "            \"trackCount\": 14,\n",
      "            \"trackNumber\": 5,\n",
      "            \"trackTimeMillis\": 209667,\n",
      "            \"country\": \"USA\",\n",
      "            \"currency\": \"USD\",\n",
      "            \"primaryGenreName\": \"Rock\",\n",
      "            \"isStreamable\": true\n",
      "        },\n",
      "        {\n",
      "            \"wrapperType\": \"track\",\n",
      "            \"kind\": \"song\",\n",
      "            \"artistId\": 136975,\n",
      "            \"collectionId\": 1441133180,\n",
      "            \"trackId\": 1441134376,\n",
      "            \"artistName\": \"The Beatles\",\n",
      "            \"collectionName\": \"The Beatles (The White Album)\",\n",
      "            \"trackName\": \"Revolution 1\",\n",
      "            \"collectionCensoredName\": \"The Beatles (The White Album)\",\n",
      "            \"trackCensoredName\": \"Revolution 1\",\n",
      "            \"artistViewUrl\": \"https://music.apple.com/us/artist/the-beatles/136975?uo=4\",\n",
      "            \"collectionViewUrl\": \"https://music.apple.com/us/album/revolution-1/1441133180?i=1441134376&uo=4\",\n",
      "            \"trackViewUrl\": \"https://music.apple.com/us/album/revolution-1/1441133180?i=1441134376&uo=4\",\n",
      "            \"previewUrl\": \"https://audio-ssl.itunes.apple.com/itunes-assets/AudioPreview125/v4/bc/70/d3/bc70d39d-60f9-8957-fa1b-820c6e268584/mzaf_6152385202399959333.plus.aac.p.m4a\",\n",
      "            \"artworkUrl30\": \"https://is3-ssl.mzstatic.com/image/thumb/Music125/v4/16/fe/6a/16fe6a77-f15a-a4e3-1f92-cda58964c7d5/source/30x30bb.jpg\",\n",
      "            \"artworkUrl60\": \"https://is3-ssl.mzstatic.com/image/thumb/Music125/v4/16/fe/6a/16fe6a77-f15a-a4e3-1f92-cda58964c7d5/source/60x60bb.jpg\",\n",
      "            \"artworkUrl100\": \"https://is3-ssl.mzstatic.com/image/thumb/Music125/v4/16/fe/6a/16fe6a77-f15a-a4e3-1f92-cda58964c7d5/source/100x100bb.jpg\",\n",
      "            \"collectionPrice\": 19.99,\n",
      "            \"trackPrice\": 1.29,\n",
      "            \"releaseDate\": \"1968-11-22T12:00:00Z\",\n",
      "            \"collectionExplicitness\": \"notExplicit\",\n",
      "            \"trackExplicitness\": \"notExplicit\",\n",
      "            \"discCount\": 3,\n",
      "            \"discNumber\": 2,\n",
      "            \"trackCount\": 13,\n",
      "            \"trackNumber\": 8,\n",
      "            \"trackTimeMillis\": 255707,\n",
      "            \"country\": \"USA\",\n",
      "            \"currency\": \"USD\",\n",
      "            \"primaryGenreName\": \"Rock\",\n",
      "            \"isStreamable\": true\n",
      "        },\n",
      "        {\n",
      "            \"wrapperType\": \"track\",\n",
      "            \"kind\": \"song\",\n",
      "            \"artistId\": 136975,\n",
      "            \"collectionId\": 1441133180,\n",
      "            \"trackId\": 1441134192,\n",
      "            \"artistName\": \"The Beatles\",\n",
      "            \"collectionName\": \"The Beatles (The White Album)\",\n",
      "            \"trackName\": \"Everybody's Got Something to Hide Except Me and My Monkey\",\n",
      "            \"collectionCensoredName\": \"The Beatles (The White Album)\",\n",
      "            \"trackCensoredName\": \"Everybody's Got Something to Hide Except Me and My Monkey\",\n",
      "            \"artistViewUrl\": \"https://music.apple.com/us/artist/the-beatles/136975?uo=4\",\n",
      "            \"collectionViewUrl\": \"https://music.apple.com/us/album/everybodys-got-something-to-hide-except-me-and-my-monkey/1441133180?i=1441134192&uo=4\",\n",
      "            \"trackViewUrl\": \"https://music.apple.com/us/album/everybodys-got-something-to-hide-except-me-and-my-monkey/1441133180?i=1441134192&uo=4\",\n",
      "            \"previewUrl\": \"https://audio-ssl.itunes.apple.com/itunes-assets/AudioPreview125/v4/35/21/4f/35214f7d-ba15-e9d1-02c0-d342e3c1a242/mzaf_8771911246254417231.plus.aac.p.m4a\",\n",
      "            \"artworkUrl30\": \"https://is3-ssl.mzstatic.com/image/thumb/Music125/v4/16/fe/6a/16fe6a77-f15a-a4e3-1f92-cda58964c7d5/source/30x30bb.jpg\",\n",
      "            \"artworkUrl60\": \"https://is3-ssl.mzstatic.com/image/thumb/Music125/v4/16/fe/6a/16fe6a77-f15a-a4e3-1f92-cda58964c7d5/source/60x60bb.jpg\",\n",
      "            \"artworkUrl100\": \"https://is3-ssl.mzstatic.com/image/thumb/Music125/v4/16/fe/6a/16fe6a77-f15a-a4e3-1f92-cda58964c7d5/source/100x100bb.jpg\",\n",
      "            \"collectionPrice\": 19.99,\n",
      "            \"trackPrice\": 1.29,\n",
      "            \"releaseDate\": \"1968-11-22T12:00:00Z\",\n",
      "            \"collectionExplicitness\": \"notExplicit\",\n",
      "            \"trackExplicitness\": \"notExplicit\",\n",
      "            \"discCount\": 3,\n",
      "            \"discNumber\": 2,\n",
      "            \"trackCount\": 13,\n",
      "            \"trackNumber\": 4,\n",
      "            \"trackTimeMillis\": 144773,\n",
      "            \"country\": \"USA\",\n",
      "            \"currency\": \"USD\",\n",
      "            \"primaryGenreName\": \"Rock\",\n",
      "            \"isStreamable\": true\n",
      "        },\n",
      "        {\n",
      "            \"wrapperType\": \"track\",\n",
      "            \"kind\": \"song\",\n",
      "            \"artistId\": 136975,\n",
      "            \"collectionId\": 1441133180,\n",
      "            \"trackId\": 1441133702,\n",
      "            \"artistName\": \"The Beatles\",\n",
      "            \"collectionName\": \"The Beatles (The White Album)\",\n",
      "            \"trackName\": \"I'm So Tired\",\n",
      "            \"collectionCensoredName\": \"The Beatles (The White Album)\",\n",
      "            \"trackCensoredName\": \"I'm So Tired\",\n",
      "            \"artistViewUrl\": \"https://music.apple.com/us/artist/the-beatles/136975?uo=4\",\n",
      "            \"collectionViewUrl\": \"https://music.apple.com/us/album/im-so-tired/1441133180?i=1441133702&uo=4\",\n",
      "            \"trackViewUrl\": \"https://music.apple.com/us/album/im-so-tired/1441133180?i=1441133702&uo=4\",\n",
      "            \"previewUrl\": \"https://audio-ssl.itunes.apple.com/itunes-assets/AudioPreview125/v4/51/01/5f/51015f55-d5bb-c94e-0a05-acf3fedf9318/mzaf_6063975442138047837.plus.aac.p.m4a\",\n",
      "            \"artworkUrl30\": \"https://is3-ssl.mzstatic.com/image/thumb/Music125/v4/16/fe/6a/16fe6a77-f15a-a4e3-1f92-cda58964c7d5/source/30x30bb.jpg\",\n",
      "            \"artworkUrl60\": \"https://is3-ssl.mzstatic.com/image/thumb/Music125/v4/16/fe/6a/16fe6a77-f15a-a4e3-1f92-cda58964c7d5/source/60x60bb.jpg\",\n",
      "            \"artworkUrl100\": \"https://is3-ssl.mzstatic.com/image/thumb/Music125/v4/16/fe/6a/16fe6a77-f15a-a4e3-1f92-cda58964c7d5/source/100x100bb.jpg\",\n",
      "            \"collectionPrice\": 19.99,\n",
      "            \"trackPrice\": 1.29,\n",
      "            \"releaseDate\": \"1968-11-22T12:00:00Z\",\n",
      "            \"collectionExplicitness\": \"notExplicit\",\n",
      "            \"trackExplicitness\": \"notExplicit\",\n",
      "            \"discCount\": 3,\n",
      "            \"discNumber\": 1,\n",
      "            \"trackCount\": 17,\n",
      "            \"trackNumber\": 10,\n",
      "            \"trackTimeMillis\": 123493,\n",
      "            \"country\": \"USA\",\n",
      "            \"currency\": \"USD\",\n",
      "            \"primaryGenreName\": \"Rock\",\n",
      "            \"isStreamable\": true\n",
      "        },\n",
      "        {\n",
      "            \"wrapperType\": \"track\",\n",
      "            \"kind\": \"song\",\n",
      "            \"artistId\": 136975,\n",
      "            \"collectionId\": 1441133180,\n",
      "            \"trackId\": 1441133690,\n",
      "            \"artistName\": \"The Beatles\",\n",
      "            \"collectionName\": \"The Beatles (The White Album)\",\n",
      "            \"trackName\": \"Martha My Dear\",\n",
      "            \"collectionCensoredName\": \"The Beatles (The White Album)\",\n",
      "            \"trackCensoredName\": \"Martha My Dear\",\n",
      "            \"artistViewUrl\": \"https://music.apple.com/us/artist/the-beatles/136975?uo=4\",\n",
      "            \"collectionViewUrl\": \"https://music.apple.com/us/album/martha-my-dear/1441133180?i=1441133690&uo=4\",\n",
      "            \"trackViewUrl\": \"https://music.apple.com/us/album/martha-my-dear/1441133180?i=1441133690&uo=4\",\n",
      "            \"previewUrl\": \"https://audio-ssl.itunes.apple.com/itunes-assets/AudioPreview125/v4/61/bd/35/61bd35fa-c4fa-9dc1-99cc-028e55d45cee/mzaf_3204957169827302601.plus.aac.p.m4a\",\n",
      "            \"artworkUrl30\": \"https://is3-ssl.mzstatic.com/image/thumb/Music125/v4/16/fe/6a/16fe6a77-f15a-a4e3-1f92-cda58964c7d5/source/30x30bb.jpg\",\n",
      "            \"artworkUrl60\": \"https://is3-ssl.mzstatic.com/image/thumb/Music125/v4/16/fe/6a/16fe6a77-f15a-a4e3-1f92-cda58964c7d5/source/60x60bb.jpg\",\n",
      "            \"artworkUrl100\": \"https://is3-ssl.mzstatic.com/image/thumb/Music125/v4/16/fe/6a/16fe6a77-f15a-a4e3-1f92-cda58964c7d5/source/100x100bb.jpg\",\n",
      "            \"collectionPrice\": 19.99,\n",
      "            \"trackPrice\": 1.29,\n",
      "            \"releaseDate\": \"1968-11-22T12:00:00Z\",\n",
      "            \"collectionExplicitness\": \"notExplicit\",\n",
      "            \"trackExplicitness\": \"notExplicit\",\n",
      "            \"discCount\": 3,\n",
      "            \"discNumber\": 1,\n",
      "            \"trackCount\": 17,\n",
      "            \"trackNumber\": 9,\n",
      "            \"trackTimeMillis\": 148573,\n",
      "            \"country\": \"USA\",\n",
      "            \"currency\": \"USD\",\n",
      "            \"primaryGenreName\": \"Rock\",\n",
      "            \"isStreamable\": true\n",
      "        },\n",
      "        {\n",
      "            \"wrapperType\": \"track\",\n",
      "            \"kind\": \"music-video\",\n",
      "            \"artistId\": 136975,\n",
      "            \"collectionId\": 1441133180,\n",
      "            \"trackId\": 1441134703,\n",
      "            \"artistName\": \"The Beatles\",\n",
      "            \"collectionName\": \"The Beatles (The White Album)\",\n",
      "            \"trackName\": \"The Beatles\",\n",
      "            \"collectionCensoredName\": \"The Beatles (The White Album)\",\n",
      "            \"trackCensoredName\": \"The Beatles (Documentary)\",\n",
      "            \"artistViewUrl\": \"https://music.apple.com/us/artist/the-beatles/136975?uo=4\",\n",
      "            \"collectionViewUrl\": \"https://music.apple.com/us/music-video/the-beatles-documentary/1441134703?uo=4\",\n",
      "            \"trackViewUrl\": \"https://music.apple.com/us/music-video/the-beatles-documentary/1441134703?uo=4\",\n",
      "            \"previewUrl\": \"https://video-ssl.itunes.apple.com/itunes-assets/Video128/v4/32/a2/13/32a21383-7e17-e8ae-e0e0-bf6b78144fc0/mzvf_7037047804382233330.640x478.h264lc.U.p.m4v\",\n",
      "            \"artworkUrl30\": \"https://is2-ssl.mzstatic.com/image/thumb/Video118/v4/99/45/26/99452619-7170-6390-a0b9-81ca068e02f7/source/30x30bb.jpg\",\n",
      "            \"artworkUrl60\": \"https://is2-ssl.mzstatic.com/image/thumb/Video118/v4/99/45/26/99452619-7170-6390-a0b9-81ca068e02f7/source/60x60bb.jpg\",\n",
      "            \"artworkUrl100\": \"https://is2-ssl.mzstatic.com/image/thumb/Video118/v4/99/45/26/99452619-7170-6390-a0b9-81ca068e02f7/source/100x100bb.jpg\",\n",
      "            \"collectionPrice\": 19.99,\n",
      "            \"trackPrice\": 1.99,\n",
      "            \"releaseDate\": \"2019-05-22T07:00:00Z\",\n",
      "            \"collectionExplicitness\": \"notExplicit\",\n",
      "            \"trackExplicitness\": \"notExplicit\",\n",
      "            \"discCount\": 3,\n",
      "            \"discNumber\": 3,\n",
      "            \"trackCount\": 32,\n",
      "            \"trackNumber\": 1,\n",
      "            \"trackTimeMillis\": 331490,\n",
      "            \"country\": \"USA\",\n",
      "            \"currency\": \"USD\",\n",
      "            \"primaryGenreName\": \"Pop\"\n",
      "        },\n",
      "        {\n",
      "            \"wrapperType\": \"track\",\n",
      "            \"kind\": \"song\",\n",
      "            \"artistId\": 136975,\n",
      "            \"collectionId\": 1441133180,\n",
      "            \"trackId\": 1441133436,\n",
      "            \"artistName\": \"The Beatles\",\n",
      "            \"collectionName\": \"The Beatles (The White Album)\",\n",
      "            \"trackName\": \"Glass Onion\",\n",
      "            \"collectionCensoredName\": \"The Beatles (The White Album)\",\n",
      "            \"trackCensoredName\": \"Glass Onion\",\n",
      "            \"artistViewUrl\": \"https://music.apple.com/us/artist/the-beatles/136975?uo=4\",\n",
      "            \"collectionViewUrl\": \"https://music.apple.com/us/album/glass-onion/1441133180?i=1441133436&uo=4\",\n",
      "            \"trackViewUrl\": \"https://music.apple.com/us/album/glass-onion/1441133180?i=1441133436&uo=4\",\n",
      "            \"previewUrl\": \"https://audio-ssl.itunes.apple.com/itunes-assets/AudioPreview115/v4/49/09/d4/4909d493-2f18-58cd-4745-97aef5d43de4/mzaf_11905904210435959857.plus.aac.p.m4a\",\n",
      "            \"artworkUrl30\": \"https://is3-ssl.mzstatic.com/image/thumb/Music125/v4/16/fe/6a/16fe6a77-f15a-a4e3-1f92-cda58964c7d5/source/30x30bb.jpg\",\n",
      "            \"artworkUrl60\": \"https://is3-ssl.mzstatic.com/image/thumb/Music125/v4/16/fe/6a/16fe6a77-f15a-a4e3-1f92-cda58964c7d5/source/60x60bb.jpg\",\n",
      "            \"artworkUrl100\": \"https://is3-ssl.mzstatic.com/image/thumb/Music125/v4/16/fe/6a/16fe6a77-f15a-a4e3-1f92-cda58964c7d5/source/100x100bb.jpg\",\n",
      "            \"collectionPrice\": 19.99,\n",
      "            \"trackPrice\": 1.29,\n",
      "            \"releaseDate\": \"1968-11-22T12:00:00Z\",\n",
      "            \"collectionExplicitness\": \"notExplicit\",\n",
      "            \"trackExplicitness\": \"notExplicit\",\n",
      "            \"discCount\": 3,\n",
      "            \"discNumber\": 1,\n",
      "            \"trackCount\": 17,\n",
      "            \"trackNumber\": 3,\n",
      "            \"trackTimeMillis\": 137840,\n",
      "            \"country\": \"USA\",\n",
      "            \"currency\": \"USD\",\n",
      "            \"primaryGenreName\": \"Rock\",\n",
      "            \"isStreamable\": true\n",
      "        },\n",
      "        {\n",
      "            \"wrapperType\": \"track\",\n",
      "            \"kind\": \"song\",\n",
      "            \"artistId\": 136975,\n",
      "            \"collectionId\": 1441133180,\n",
      "            \"trackId\": 1441133902,\n",
      "            \"artistName\": \"The Beatles\",\n",
      "            \"collectionName\": \"The Beatles (The White Album)\",\n",
      "            \"trackName\": \"Why Don't We Do It In the Road?\",\n",
      "            \"collectionCensoredName\": \"The Beatles (The White Album)\",\n",
      "            \"trackCensoredName\": \"Why Don't We Do It In the Road?\",\n",
      "            \"artistViewUrl\": \"https://music.apple.com/us/artist/the-beatles/136975?uo=4\",\n",
      "            \"collectionViewUrl\": \"https://music.apple.com/us/album/why-dont-we-do-it-in-the-road/1441133180?i=1441133902&uo=4\",\n",
      "            \"trackViewUrl\": \"https://music.apple.com/us/album/why-dont-we-do-it-in-the-road/1441133180?i=1441133902&uo=4\",\n",
      "            \"previewUrl\": \"https://audio-ssl.itunes.apple.com/itunes-assets/AudioPreview125/v4/3e/52/fd/3e52fdbd-f190-826f-f826-3c8765843a15/mzaf_8598324598359201603.plus.aac.p.m4a\",\n",
      "            \"artworkUrl30\": \"https://is3-ssl.mzstatic.com/image/thumb/Music125/v4/16/fe/6a/16fe6a77-f15a-a4e3-1f92-cda58964c7d5/source/30x30bb.jpg\",\n",
      "            \"artworkUrl60\": \"https://is3-ssl.mzstatic.com/image/thumb/Music125/v4/16/fe/6a/16fe6a77-f15a-a4e3-1f92-cda58964c7d5/source/60x60bb.jpg\",\n",
      "            \"artworkUrl100\": \"https://is3-ssl.mzstatic.com/image/thumb/Music125/v4/16/fe/6a/16fe6a77-f15a-a4e3-1f92-cda58964c7d5/source/100x100bb.jpg\",\n",
      "            \"collectionPrice\": 19.99,\n",
      "            \"trackPrice\": 1.29,\n",
      "            \"releaseDate\": \"1968-11-22T12:00:00Z\",\n",
      "            \"collectionExplicitness\": \"notExplicit\",\n",
      "            \"trackExplicitness\": \"notExplicit\",\n",
      "            \"discCount\": 3,\n",
      "            \"discNumber\": 1,\n",
      "            \"trackCount\": 17,\n",
      "            \"trackNumber\": 15,\n",
      "            \"trackTimeMillis\": 101160,\n",
      "            \"country\": \"USA\",\n",
      "            \"currency\": \"USD\",\n",
      "            \"primaryGenreName\": \"Pop\",\n",
      "            \"isStreamable\": true\n",
      "        },\n",
      "        {\n",
      "            \"wrapperType\": \"track\",\n",
      "            \"kind\": \"song\",\n",
      "            \"artistId\": 136975,\n",
      "            \"collectionId\": 1441133100,\n",
      "            \"trackId\": 1441133505,\n",
      "            \"artistName\": \"The Beatles\",\n",
      "            \"collectionName\": \"The Beatles 1967-1970 (The Blue Album)\",\n",
      "            \"trackName\": \"Let It Be\",\n",
      "            \"collectionCensoredName\": \"The Beatles 1967-1970 (The Blue Album)\",\n",
      "            \"trackCensoredName\": \"Let It Be\",\n",
      "            \"artistViewUrl\": \"https://music.apple.com/us/artist/the-beatles/136975?uo=4\",\n",
      "            \"collectionViewUrl\": \"https://music.apple.com/us/album/let-it-be/1441133100?i=1441133505&uo=4\",\n",
      "            \"trackViewUrl\": \"https://music.apple.com/us/album/let-it-be/1441133100?i=1441133505&uo=4\",\n",
      "            \"previewUrl\": \"https://audio-ssl.itunes.apple.com/itunes-assets/AudioPreview115/v4/7a/a5/46/7aa5461c-0ed9-d365-69f8-8777c701c7f4/mzaf_8336501621934312211.plus.aac.p.m4a\",\n",
      "            \"artworkUrl30\": \"https://is1-ssl.mzstatic.com/image/thumb/Music125/v4/27/7e/ef/277eefc6-f30a-cf5d-6e84-a80c435f36b0/source/30x30bb.jpg\",\n",
      "            \"artworkUrl60\": \"https://is1-ssl.mzstatic.com/image/thumb/Music125/v4/27/7e/ef/277eefc6-f30a-cf5d-6e84-a80c435f36b0/source/60x60bb.jpg\",\n",
      "            \"artworkUrl100\": \"https://is1-ssl.mzstatic.com/image/thumb/Music125/v4/27/7e/ef/277eefc6-f30a-cf5d-6e84-a80c435f36b0/source/100x100bb.jpg\",\n",
      "            \"collectionPrice\": 19.99,\n",
      "            \"trackPrice\": 1.29,\n",
      "            \"releaseDate\": \"1970-03-06T12:00:00Z\",\n",
      "            \"collectionExplicitness\": \"notExplicit\",\n",
      "            \"trackExplicitness\": \"notExplicit\",\n",
      "            \"discCount\": 2,\n",
      "            \"discNumber\": 2,\n",
      "            \"trackCount\": 14,\n",
      "            \"trackNumber\": 12,\n",
      "            \"trackTimeMillis\": 232373,\n",
      "            \"country\": \"USA\",\n",
      "            \"currency\": \"USD\",\n",
      "            \"primaryGenreName\": \"Rock\",\n",
      "            \"isStreamable\": true\n",
      "        },\n",
      "        {\n",
      "            \"wrapperType\": \"track\",\n",
      "            \"kind\": \"song\",\n",
      "            \"artistId\": 136975,\n",
      "            \"collectionId\": 1441133180,\n",
      "            \"trackId\": 1441134477,\n",
      "            \"artistName\": \"The Beatles\",\n",
      "            \"collectionName\": \"The Beatles (The White Album)\",\n",
      "            \"trackName\": \"Cry Baby Cry\",\n",
      "            \"collectionCensoredName\": \"The Beatles (The White Album)\",\n",
      "            \"trackCensoredName\": \"Cry Baby Cry\",\n",
      "            \"artistViewUrl\": \"https://music.apple.com/us/artist/the-beatles/136975?uo=4\",\n",
      "            \"collectionViewUrl\": \"https://music.apple.com/us/album/cry-baby-cry/1441133180?i=1441134477&uo=4\",\n",
      "            \"trackViewUrl\": \"https://music.apple.com/us/album/cry-baby-cry/1441133180?i=1441134477&uo=4\",\n",
      "            \"previewUrl\": \"https://audio-ssl.itunes.apple.com/itunes-assets/AudioPreview125/v4/b5/8f/77/b58f772b-cfe2-6c51-b789-327a6d518f6f/mzaf_6834851729795768369.plus.aac.p.m4a\",\n",
      "            \"artworkUrl30\": \"https://is3-ssl.mzstatic.com/image/thumb/Music125/v4/16/fe/6a/16fe6a77-f15a-a4e3-1f92-cda58964c7d5/source/30x30bb.jpg\",\n",
      "            \"artworkUrl60\": \"https://is3-ssl.mzstatic.com/image/thumb/Music125/v4/16/fe/6a/16fe6a77-f15a-a4e3-1f92-cda58964c7d5/source/60x60bb.jpg\",\n",
      "            \"artworkUrl100\": \"https://is3-ssl.mzstatic.com/image/thumb/Music125/v4/16/fe/6a/16fe6a77-f15a-a4e3-1f92-cda58964c7d5/source/100x100bb.jpg\",\n",
      "            \"collectionPrice\": 19.99,\n",
      "            \"trackPrice\": 1.29,\n",
      "            \"releaseDate\": \"1968-11-22T12:00:00Z\",\n",
      "            \"collectionExplicitness\": \"notExplicit\",\n",
      "            \"trackExplicitness\": \"notExplicit\",\n",
      "            \"discCount\": 3,\n",
      "            \"discNumber\": 2,\n",
      "            \"trackCount\": 13,\n",
      "            \"trackNumber\": 11,\n",
      "            \"trackTimeMillis\": 182080,\n",
      "            \"country\": \"USA\",\n",
      "            \"currency\": \"USD\",\n",
      "            \"primaryGenreName\": \"Rock\",\n",
      "            \"isStreamable\": true\n",
      "        },\n",
      "        {\n",
      "            \"wrapperType\": \"track\",\n",
      "            \"kind\": \"song\",\n",
      "            \"artistId\": 136975,\n",
      "            \"collectionId\": 1441133100,\n",
      "            \"trackId\": 1441133289,\n",
      "            \"artistName\": \"The Beatles\",\n",
      "            \"collectionName\": \"The Beatles 1967-1970 (The Blue Album)\",\n",
      "            \"trackName\": \"Here Comes the Sun\",\n",
      "            \"collectionCensoredName\": \"The Beatles 1967-1970 (The Blue Album)\",\n",
      "            \"trackCensoredName\": \"Here Comes the Sun\",\n",
      "            \"artistViewUrl\": \"https://music.apple.com/us/artist/the-beatles/136975?uo=4\",\n",
      "            \"collectionViewUrl\": \"https://music.apple.com/us/album/here-comes-the-sun/1441133100?i=1441133289&uo=4\",\n",
      "            \"trackViewUrl\": \"https://music.apple.com/us/album/here-comes-the-sun/1441133100?i=1441133289&uo=4\",\n",
      "            \"previewUrl\": \"https://audio-ssl.itunes.apple.com/itunes-assets/AudioPreview125/v4/07/2a/55/072a55e7-9ae3-f032-cc30-d59609956b6c/mzaf_5324579246921704668.plus.aac.p.m4a\",\n",
      "            \"artworkUrl30\": \"https://is1-ssl.mzstatic.com/image/thumb/Music125/v4/27/7e/ef/277eefc6-f30a-cf5d-6e84-a80c435f36b0/source/30x30bb.jpg\",\n",
      "            \"artworkUrl60\": \"https://is1-ssl.mzstatic.com/image/thumb/Music125/v4/27/7e/ef/277eefc6-f30a-cf5d-6e84-a80c435f36b0/source/60x60bb.jpg\",\n",
      "            \"artworkUrl100\": \"https://is1-ssl.mzstatic.com/image/thumb/Music125/v4/27/7e/ef/277eefc6-f30a-cf5d-6e84-a80c435f36b0/source/100x100bb.jpg\",\n",
      "            \"collectionPrice\": 19.99,\n",
      "            \"trackPrice\": 1.29,\n",
      "            \"releaseDate\": \"1969-09-26T12:00:00Z\",\n",
      "            \"collectionExplicitness\": \"notExplicit\",\n",
      "            \"trackExplicitness\": \"notExplicit\",\n",
      "            \"discCount\": 2,\n",
      "            \"discNumber\": 2,\n",
      "            \"trackCount\": 14,\n",
      "            \"trackNumber\": 8,\n",
      "            \"trackTimeMillis\": 187373,\n",
      "            \"country\": \"USA\",\n",
      "            \"currency\": \"USD\",\n",
      "            \"primaryGenreName\": \"Rock\",\n",
      "            \"isStreamable\": true\n",
      "        },\n",
      "        {\n",
      "            \"wrapperType\": \"track\",\n",
      "            \"kind\": \"song\",\n",
      "            \"artistId\": 136975,\n",
      "            \"collectionId\": 1441133100,\n",
      "            \"trackId\": 1441133102,\n",
      "            \"artistName\": \"The Beatles\",\n",
      "            \"collectionName\": \"The Beatles 1967-1970 (The Blue Album)\",\n",
      "            \"trackName\": \"Penny Lane\",\n",
      "            \"collectionCensoredName\": \"The Beatles 1967-1970 (The Blue Album)\",\n",
      "            \"trackCensoredName\": \"Penny Lane\",\n",
      "            \"artistViewUrl\": \"https://music.apple.com/us/artist/the-beatles/136975?uo=4\",\n",
      "            \"collectionViewUrl\": \"https://music.apple.com/us/album/penny-lane/1441133100?i=1441133102&uo=4\",\n",
      "            \"trackViewUrl\": \"https://music.apple.com/us/album/penny-lane/1441133100?i=1441133102&uo=4\",\n",
      "            \"previewUrl\": \"https://audio-ssl.itunes.apple.com/itunes-assets/AudioPreview115/v4/51/82/e5/5182e5e1-f680-0112-7980-c5d89f8c3c7d/mzaf_13384762406387141754.plus.aac.p.m4a\",\n",
      "            \"artworkUrl30\": \"https://is1-ssl.mzstatic.com/image/thumb/Music125/v4/27/7e/ef/277eefc6-f30a-cf5d-6e84-a80c435f36b0/source/30x30bb.jpg\",\n",
      "            \"artworkUrl60\": \"https://is1-ssl.mzstatic.com/image/thumb/Music125/v4/27/7e/ef/277eefc6-f30a-cf5d-6e84-a80c435f36b0/source/60x60bb.jpg\",\n",
      "            \"artworkUrl100\": \"https://is1-ssl.mzstatic.com/image/thumb/Music125/v4/27/7e/ef/277eefc6-f30a-cf5d-6e84-a80c435f36b0/source/100x100bb.jpg\",\n",
      "            \"collectionPrice\": 19.99,\n",
      "            \"trackPrice\": 1.29,\n",
      "            \"releaseDate\": \"1967-02-13T12:00:00Z\",\n",
      "            \"collectionExplicitness\": \"notExplicit\",\n",
      "            \"trackExplicitness\": \"notExplicit\",\n",
      "            \"discCount\": 2,\n",
      "            \"discNumber\": 1,\n",
      "            \"trackCount\": 14,\n",
      "            \"trackNumber\": 2,\n",
      "            \"trackTimeMillis\": 181600,\n",
      "            \"country\": \"USA\",\n",
      "            \"currency\": \"USD\",\n",
      "            \"primaryGenreName\": \"Rock\",\n",
      "            \"isStreamable\": true\n",
      "        },\n",
      "        {\n",
      "            \"wrapperType\": \"track\",\n",
      "            \"kind\": \"song\",\n",
      "            \"artistId\": 136975,\n",
      "            \"collectionId\": 1441133100,\n",
      "            \"trackId\": 1441133283,\n",
      "            \"artistName\": \"The Beatles & Billy Preston\",\n",
      "            \"collectionName\": \"The Beatles 1967-1970 (The Blue Album)\",\n",
      "            \"trackName\": \"Get Back\",\n",
      "            \"collectionCensoredName\": \"The Beatles 1967-1970 (The Blue Album)\",\n",
      "            \"trackCensoredName\": \"Get Back\",\n",
      "            \"collectionArtistName\": \"The Beatles\",\n",
      "            \"artistViewUrl\": \"https://music.apple.com/us/artist/the-beatles/136975?uo=4\",\n",
      "            \"collectionViewUrl\": \"https://music.apple.com/us/album/get-back/1441133100?i=1441133283&uo=4\",\n",
      "            \"trackViewUrl\": \"https://music.apple.com/us/album/get-back/1441133100?i=1441133283&uo=4\",\n",
      "            \"previewUrl\": \"https://audio-ssl.itunes.apple.com/itunes-assets/AudioPreview125/v4/ca/e1/1d/cae11d44-8439-62a9-b9d8-f464b10f343a/mzaf_10061784450135110203.plus.aac.p.m4a\",\n",
      "            \"artworkUrl30\": \"https://is1-ssl.mzstatic.com/image/thumb/Music125/v4/27/7e/ef/277eefc6-f30a-cf5d-6e84-a80c435f36b0/source/30x30bb.jpg\",\n",
      "            \"artworkUrl60\": \"https://is1-ssl.mzstatic.com/image/thumb/Music125/v4/27/7e/ef/277eefc6-f30a-cf5d-6e84-a80c435f36b0/source/60x60bb.jpg\",\n",
      "            \"artworkUrl100\": \"https://is1-ssl.mzstatic.com/image/thumb/Music125/v4/27/7e/ef/277eefc6-f30a-cf5d-6e84-a80c435f36b0/source/100x100bb.jpg\",\n",
      "            \"collectionPrice\": 19.99,\n",
      "            \"trackPrice\": 1.29,\n",
      "            \"releaseDate\": \"1969-04-11T12:00:00Z\",\n",
      "            \"collectionExplicitness\": \"notExplicit\",\n",
      "            \"trackExplicitness\": \"notExplicit\",\n",
      "            \"discCount\": 2,\n",
      "            \"discNumber\": 2,\n",
      "            \"trackCount\": 14,\n",
      "            \"trackNumber\": 4,\n",
      "            \"trackTimeMillis\": 192667,\n",
      "            \"country\": \"USA\",\n",
      "            \"currency\": \"USD\",\n",
      "            \"primaryGenreName\": \"Pop\",\n",
      "            \"isStreamable\": true\n",
      "        },\n",
      "        {\n",
      "            \"wrapperType\": \"track\",\n",
      "            \"kind\": \"song\",\n",
      "            \"artistId\": 136975,\n",
      "            \"collectionId\": 1441133180,\n",
      "            \"trackId\": 1441134198,\n",
      "            \"artistName\": \"The Beatles\",\n",
      "            \"collectionName\": \"The Beatles (The White Album)\",\n",
      "            \"trackName\": \"Sexy Sadie\",\n",
      "            \"collectionCensoredName\": \"The Beatles (The White Album)\",\n",
      "            \"trackCensoredName\": \"Sexy Sadie\",\n",
      "            \"artistViewUrl\": \"https://music.apple.com/us/artist/the-beatles/136975?uo=4\",\n",
      "            \"collectionViewUrl\": \"https://music.apple.com/us/album/sexy-sadie/1441133180?i=1441134198&uo=4\",\n",
      "            \"trackViewUrl\": \"https://music.apple.com/us/album/sexy-sadie/1441133180?i=1441134198&uo=4\",\n",
      "            \"previewUrl\": \"https://audio-ssl.itunes.apple.com/itunes-assets/AudioPreview125/v4/9d/88/1f/9d881f6d-c7e6-4728-644b-2c74110b98d2/mzaf_5291899988247267522.plus.aac.p.m4a\",\n",
      "            \"artworkUrl30\": \"https://is3-ssl.mzstatic.com/image/thumb/Music125/v4/16/fe/6a/16fe6a77-f15a-a4e3-1f92-cda58964c7d5/source/30x30bb.jpg\",\n",
      "            \"artworkUrl60\": \"https://is3-ssl.mzstatic.com/image/thumb/Music125/v4/16/fe/6a/16fe6a77-f15a-a4e3-1f92-cda58964c7d5/source/60x60bb.jpg\",\n",
      "            \"artworkUrl100\": \"https://is3-ssl.mzstatic.com/image/thumb/Music125/v4/16/fe/6a/16fe6a77-f15a-a4e3-1f92-cda58964c7d5/source/100x100bb.jpg\",\n",
      "            \"collectionPrice\": 19.99,\n",
      "            \"trackPrice\": 1.29,\n",
      "            \"releaseDate\": \"1968-11-22T12:00:00Z\",\n",
      "            \"collectionExplicitness\": \"notExplicit\",\n",
      "            \"trackExplicitness\": \"notExplicit\",\n",
      "            \"discCount\": 3,\n",
      "            \"discNumber\": 2,\n",
      "            \"trackCount\": 13,\n",
      "            \"trackNumber\": 5,\n",
      "            \"trackTimeMillis\": 195267,\n",
      "            \"country\": \"USA\",\n",
      "            \"currency\": \"USD\",\n",
      "            \"primaryGenreName\": \"Rock\",\n",
      "            \"isStreamable\": true\n",
      "        },\n",
      "        {\n",
      "            \"wrapperType\": \"track\",\n",
      "            \"kind\": \"song\",\n",
      "            \"artistId\": 136975,\n",
      "            \"collectionId\": 1441133180,\n",
      "            \"trackId\": 1441133634,\n",
      "            \"artistName\": \"The Beatles\",\n",
      "            \"collectionName\": \"The Beatles (The White Album)\",\n",
      "            \"trackName\": \"The Continuing Story of Bungalow Bill\",\n",
      "            \"collectionCensoredName\": \"The Beatles (The White Album)\",\n",
      "            \"trackCensoredName\": \"The Continuing Story of Bungalow Bill\",\n",
      "            \"artistViewUrl\": \"https://music.apple.com/us/artist/the-beatles/136975?uo=4\",\n",
      "            \"collectionViewUrl\": \"https://music.apple.com/us/album/the-continuing-story-of-bungalow-bill/1441133180?i=1441133634&uo=4\",\n",
      "            \"trackViewUrl\": \"https://music.apple.com/us/album/the-continuing-story-of-bungalow-bill/1441133180?i=1441133634&uo=4\",\n",
      "            \"previewUrl\": \"https://audio-ssl.itunes.apple.com/itunes-assets/AudioPreview115/v4/4c/5e/48/4c5e48e3-c08f-814d-570f-e934a71aff47/mzaf_2287261268531929013.plus.aac.p.m4a\",\n",
      "            \"artworkUrl30\": \"https://is3-ssl.mzstatic.com/image/thumb/Music125/v4/16/fe/6a/16fe6a77-f15a-a4e3-1f92-cda58964c7d5/source/30x30bb.jpg\",\n",
      "            \"artworkUrl60\": \"https://is3-ssl.mzstatic.com/image/thumb/Music125/v4/16/fe/6a/16fe6a77-f15a-a4e3-1f92-cda58964c7d5/source/60x60bb.jpg\",\n",
      "            \"artworkUrl100\": \"https://is3-ssl.mzstatic.com/image/thumb/Music125/v4/16/fe/6a/16fe6a77-f15a-a4e3-1f92-cda58964c7d5/source/100x100bb.jpg\",\n",
      "            \"collectionPrice\": 19.99,\n",
      "            \"trackPrice\": 1.29,\n",
      "            \"releaseDate\": \"1968-11-22T12:00:00Z\",\n",
      "            \"collectionExplicitness\": \"notExplicit\",\n",
      "            \"trackExplicitness\": \"notExplicit\",\n",
      "            \"discCount\": 3,\n",
      "            \"discNumber\": 1,\n",
      "            \"trackCount\": 17,\n",
      "            \"trackNumber\": 6,\n",
      "            \"trackTimeMillis\": 194160,\n",
      "            \"country\": \"USA\",\n",
      "            \"currency\": \"USD\",\n",
      "            \"primaryGenreName\": \"Rock\",\n",
      "            \"isStreamable\": true\n",
      "        },\n",
      "        {\n",
      "            \"wrapperType\": \"track\",\n",
      "            \"kind\": \"song\",\n",
      "            \"artistId\": 136975,\n",
      "            \"collectionId\": 1441133180,\n",
      "            \"trackId\": 1441134092,\n",
      "            \"artistName\": \"The Beatles\",\n",
      "            \"collectionName\": \"The Beatles (The White Album)\",\n",
      "            \"trackName\": \"Yer Blues\",\n",
      "            \"collectionCensoredName\": \"The Beatles (The White Album)\",\n",
      "            \"trackCensoredName\": \"Yer Blues\",\n",
      "            \"artistViewUrl\": \"https://music.apple.com/us/artist/the-beatles/136975?uo=4\",\n",
      "            \"collectionViewUrl\": \"https://music.apple.com/us/album/yer-blues/1441133180?i=1441134092&uo=4\",\n",
      "            \"trackViewUrl\": \"https://music.apple.com/us/album/yer-blues/1441133180?i=1441134092&uo=4\",\n",
      "            \"previewUrl\": \"https://audio-ssl.itunes.apple.com/itunes-assets/AudioPreview125/v4/26/d9/fc/26d9fc5b-fa84-9c6f-d098-7f27965a9f97/mzaf_15031040391290826035.plus.aac.p.m4a\",\n",
      "            \"artworkUrl30\": \"https://is3-ssl.mzstatic.com/image/thumb/Music125/v4/16/fe/6a/16fe6a77-f15a-a4e3-1f92-cda58964c7d5/source/30x30bb.jpg\",\n",
      "            \"artworkUrl60\": \"https://is3-ssl.mzstatic.com/image/thumb/Music125/v4/16/fe/6a/16fe6a77-f15a-a4e3-1f92-cda58964c7d5/source/60x60bb.jpg\",\n",
      "            \"artworkUrl100\": \"https://is3-ssl.mzstatic.com/image/thumb/Music125/v4/16/fe/6a/16fe6a77-f15a-a4e3-1f92-cda58964c7d5/source/100x100bb.jpg\",\n",
      "            \"collectionPrice\": 19.99,\n",
      "            \"trackPrice\": 1.29,\n",
      "            \"releaseDate\": \"1968-11-22T12:00:00Z\",\n",
      "            \"collectionExplicitness\": \"notExplicit\",\n",
      "            \"trackExplicitness\": \"notExplicit\",\n",
      "            \"discCount\": 3,\n",
      "            \"discNumber\": 2,\n",
      "            \"trackCount\": 13,\n",
      "            \"trackNumber\": 2,\n",
      "            \"trackTimeMillis\": 240453,\n",
      "            \"country\": \"USA\",\n",
      "            \"currency\": \"USD\",\n",
      "            \"primaryGenreName\": \"Rock\",\n",
      "            \"isStreamable\": true\n",
      "        }\n",
      "    ]\n",
      "}\n"
     ]
    }
   ],
   "source": [
    "# Inspecting the response's JSON\n",
    "info = r.json()\n",
    "print(json.dumps(info, indent=4))"
   ]
  },
  {
   "cell_type": "code",
   "execution_count": 26,
   "metadata": {},
   "outputs": [
    {
     "data": {
      "text/plain": [
       "dict_keys(['resultCount', 'results'])"
      ]
     },
     "execution_count": 26,
     "metadata": {},
     "output_type": "execute_result"
    }
   ],
   "source": [
    "# This seems to contain a lot of data\n",
    "# Let's check if there are some keys we don't see at first glance in the outermost dictionary\n",
    "info.keys()"
   ]
  },
  {
   "cell_type": "code",
   "execution_count": 27,
   "metadata": {},
   "outputs": [],
   "source": [
    "# There are, indeed, only these two keys"
   ]
  },
  {
   "cell_type": "code",
   "execution_count": 28,
   "metadata": {},
   "outputs": [
    {
     "name": "stdout",
     "output_type": "stream",
     "text": [
      "{\n",
      "    \"wrapperType\": \"audiobook\",\n",
      "    \"artistId\": 160778930,\n",
      "    \"collectionId\": 1439484338,\n",
      "    \"artistName\": \"Bob Spitz\",\n",
      "    \"collectionName\": \"The Beatles (Abridged)\",\n",
      "    \"collectionCensoredName\": \"The Beatles (Abridged)\",\n",
      "    \"artistViewUrl\": \"https://books.apple.com/us/author/bob-spitz/id160778930?uo=4\",\n",
      "    \"collectionViewUrl\": \"https://books.apple.com/us/audiobook/the-beatles-abridged/id1439484338?uo=4\",\n",
      "    \"artworkUrl60\": \"https://is3-ssl.mzstatic.com/image/thumb/Music128/v4/69/b8/65/69b86591-ce4b-9bd0-ab71-3808d0ea06dc/9780743552455.jpg/60x60bb.jpg\",\n",
      "    \"artworkUrl100\": \"https://is3-ssl.mzstatic.com/image/thumb/Music128/v4/69/b8/65/69b86591-ce4b-9bd0-ab71-3808d0ea06dc/9780743552455.jpg/100x100bb.jpg\",\n",
      "    \"collectionPrice\": 16.99,\n",
      "    \"collectionExplicitness\": \"notExplicit\",\n",
      "    \"trackCount\": 1,\n",
      "    \"country\": \"USA\",\n",
      "    \"currency\": \"USD\",\n",
      "    \"releaseDate\": \"2005-11-01T08:00:00Z\",\n",
      "    \"primaryGenreName\": \"Biographies & Memoirs\",\n",
      "    \"previewUrl\": \"https://audio-ssl.itunes.apple.com/itunes-assets/AudioPreview123/v4/8a/3b/60/8a3b60b6-8b98-ec66-4193-2410ade915b6/mzaf_3719604921631393408.std.aac.p.m4a\",\n",
      "    \"description\": \"<b>2007 Audie Award Winner for Non-Fiction, Abridged</b><br /><br />Even before the Beatles hit the big time, a myth was created. This version of the Beatles legend smoothed the rough edges and filled in the fault lines, and for more than forty years this manicured version of the Beatles story has sustained as truth -- until now.<br /> The product of almost a decade of research, hundreds of unprecedented interviews, and the discovery of scores of never-before-revealed documents, Bob Spitz's <i>The Beatles</i> is the biography fans have been waiting for.<br /> Never before has a biography of musicians been so immersive and textured. We are there in the McCartney living room when Paul and John learn to write songs together; backstage the night Ringo takes over on drums; in seedy German strip clubs where George lies about his age so the band can perform; and at the <i>Ed Sullivan Show</i> as America discovers the joy and the madness. From Shea to San Francisco, through the London night, on to India, through marmalade skies, across the universe-all the way to a rooftop concert and one last moment of laughter and music.<br /> It is all here, the highs and the lows, the love and the rivalry, the drugs, the tears, the thrill, the magic never again to be repeated. Bob Spitz's masterpiece is, at long last, the biography the Beatles deserve.\"\n",
      "}\n"
     ]
    }
   ],
   "source": [
    "# The second one contains a list of all the results\n",
    "# Let's look at one such result\n",
    "print(json.dumps(info['results'][0], indent=4))\n",
    "\n",
    "# It's a simple dictionary with a lot of data"
   ]
  },
  {
   "cell_type": "code",
   "execution_count": 61,
   "metadata": {},
   "outputs": [
    {
     "data": {
      "text/plain": [
       "50"
      ]
     },
     "execution_count": 61,
     "metadata": {},
     "output_type": "execute_result"
    }
   ],
   "source": [
    "# The first one states how many results are shown (by default, 50)\n",
    "info[\"resultCount\"]"
   ]
  },
  {
   "cell_type": "code",
   "execution_count": null,
   "metadata": {},
   "outputs": [],
   "source": [
    "# The number of results can be set (to a maximum of 200) with the 'limit' parameter\n",
    "r = requests.get(base_site, params = {\"term\": \"the beatles\", \"country\": \"us\", \"limit\": 200})\n",
    "r.ok"
   ]
  },
  {
   "cell_type": "code",
   "execution_count": null,
   "metadata": {},
   "outputs": [],
   "source": [
    "info = r.json()\n",
    "info"
   ]
  },
  {
   "cell_type": "code",
   "execution_count": null,
   "metadata": {},
   "outputs": [],
   "source": [
    "len(info['results'])"
   ]
  },
  {
   "cell_type": "code",
   "execution_count": null,
   "metadata": {},
   "outputs": [],
   "source": [
    "# Finally, let's check the response to an invalid input\n",
    "check_resp = requests.get(base_site, params = {\"term\": \"alternative\", \"country\": \"us\", \"media\": \"hahaha\"})\n",
    "check_resp.ok"
   ]
  },
  {
   "cell_type": "code",
   "execution_count": null,
   "metadata": {},
   "outputs": [],
   "source": [
    "# Status code is 400 - meaning 'Bad request'\n",
    "check_resp.status_code"
   ]
  },
  {
   "cell_type": "code",
   "execution_count": null,
   "metadata": {},
   "outputs": [],
   "source": [
    "# Error message\n",
    "check_resp.json()"
   ]
  },
  {
   "cell_type": "markdown",
   "metadata": {},
   "source": [
    "### Structuring and exporting the data"
   ]
  },
  {
   "cell_type": "code",
   "execution_count": null,
   "metadata": {},
   "outputs": [],
   "source": [
    "# It may be useful to store the data in a structured form\n",
    "# The pandas package is great for that, as we can use its dataframe (basically a table)\n",
    "# Since the results is a list of 'shallow' dictionaries, it neatly fits into a table\n",
    "# A more complicated, nested dictionary may not be easily transformable into a table"
   ]
  },
  {
   "cell_type": "code",
   "execution_count": null,
   "metadata": {},
   "outputs": [],
   "source": [
    "import pandas as pd"
   ]
  },
  {
   "cell_type": "code",
   "execution_count": null,
   "metadata": {},
   "outputs": [],
   "source": [
    "# Creating the dataframe and populating it with the results of our search\n",
    "songs_df = pd.DataFrame(info[\"results\"])\n",
    "songs_df"
   ]
  },
  {
   "cell_type": "code",
   "execution_count": null,
   "metadata": {},
   "outputs": [],
   "source": [
    "# Exporting the data to a CSV (Comma Separated Values) file\n",
    "songs_df.to_csv(\"songs_info.csv\")"
   ]
  },
  {
   "cell_type": "code",
   "execution_count": null,
   "metadata": {},
   "outputs": [],
   "source": []
  },
  {
   "cell_type": "markdown",
   "metadata": {},
   "source": [
    "# Pagination"
   ]
  },
  {
   "cell_type": "code",
   "execution_count": null,
   "metadata": {},
   "outputs": [],
   "source": [
    "# Loading the packages\n",
    "import requests\n",
    "import json"
   ]
  },
  {
   "cell_type": "code",
   "execution_count": null,
   "metadata": {},
   "outputs": [],
   "source": [
    "# We will use API for job listings on Github\n",
    "# Documentation can be found on: https://jobs.github.com/api"
   ]
  },
  {
   "cell_type": "code",
   "execution_count": null,
   "metadata": {},
   "outputs": [],
   "source": [
    "# define base URL\n",
    "base_site = \"https://jobs.github.com/positions.json\""
   ]
  },
  {
   "cell_type": "code",
   "execution_count": null,
   "metadata": {},
   "outputs": [],
   "source": [
    "# Submiting a GET request\n",
    "r = requests.get(base_site, params = {\"title\": \"data science\", \"location\": \"Fairfax, VA\"})\n",
    "r.status_code"
   ]
  },
  {
   "cell_type": "code",
   "execution_count": null,
   "metadata": {
    "scrolled": true
   },
   "outputs": [],
   "source": [
    "# Inspect the response\n",
    "r.json()"
   ]
  },
  {
   "cell_type": "code",
   "execution_count": null,
   "metadata": {},
   "outputs": [],
   "source": [
    "# How many jobs have been found?\n",
    "len(r.json())"
   ]
  },
  {
   "cell_type": "markdown",
   "metadata": {},
   "source": [
    "### The page parameter"
   ]
  },
  {
   "cell_type": "code",
   "execution_count": null,
   "metadata": {},
   "outputs": [],
   "source": [
    "# Let's search for all jobs (no filter parameters)\n",
    "r =  requests.get(base_site)\n",
    "r.ok"
   ]
  },
  {
   "cell_type": "code",
   "execution_count": null,
   "metadata": {},
   "outputs": [],
   "source": [
    "r.json()"
   ]
  },
  {
   "cell_type": "code",
   "execution_count": null,
   "metadata": {},
   "outputs": [],
   "source": [
    "len(r.json())"
   ]
  },
  {
   "cell_type": "code",
   "execution_count": null,
   "metadata": {},
   "outputs": [],
   "source": [
    "# According to the documentation, the results are split into pages\n",
    "# These were the results from the first page only"
   ]
  },
  {
   "cell_type": "code",
   "execution_count": null,
   "metadata": {},
   "outputs": [],
   "source": [
    "# To get the next page, we need to make another GET request with parameter 'page'\n",
    "r =  requests.get(base_site, params = {\"page\": 2})\n",
    "r.status_code"
   ]
  },
  {
   "cell_type": "code",
   "execution_count": null,
   "metadata": {},
   "outputs": [],
   "source": [
    "r.json()"
   ]
  },
  {
   "cell_type": "code",
   "execution_count": null,
   "metadata": {},
   "outputs": [],
   "source": [
    "len(r.json())"
   ]
  },
  {
   "cell_type": "code",
   "execution_count": null,
   "metadata": {},
   "outputs": [],
   "source": [
    "# Making a request to a non-existing page\n",
    "r = requests.get(base_site, params = {\"page\": 10})\n",
    "r.status_code"
   ]
  },
  {
   "cell_type": "code",
   "execution_count": null,
   "metadata": {},
   "outputs": [],
   "source": [
    "# The response is an empty list\n",
    "r.json()"
   ]
  },
  {
   "cell_type": "markdown",
   "metadata": {},
   "source": [
    "### Extracting results from multiple pages"
   ]
  },
  {
   "cell_type": "code",
   "execution_count": null,
   "metadata": {},
   "outputs": [],
   "source": [
    "# Let's obtain the results of the first 5 pages\n",
    "results = []"
   ]
  },
  {
   "cell_type": "code",
   "execution_count": null,
   "metadata": {},
   "outputs": [],
   "source": [
    "for i in range(5):\n",
    "    r =  requests.get(base_site, params = {\"page\": i+1})\n",
    "    \n",
    "    if len(r.json()) == 0:   # We have reached the end of the results\n",
    "        break\n",
    "    else:\n",
    "        # Add the response results to our list of results\n",
    "        results.extend(r.json())\n"
   ]
  },
  {
   "cell_type": "code",
   "execution_count": null,
   "metadata": {},
   "outputs": [],
   "source": [
    "# number of found jobs\n",
    "len(results)"
   ]
  },
  {
   "cell_type": "code",
   "execution_count": null,
   "metadata": {},
   "outputs": [],
   "source": []
  }
 ],
 "metadata": {
  "kernelspec": {
   "display_name": "Python 3",
   "language": "python",
   "name": "python3"
  },
  "language_info": {
   "codemirror_mode": {
    "name": "ipython",
    "version": 3
   },
   "file_extension": ".py",
   "mimetype": "text/x-python",
   "name": "python",
   "nbconvert_exporter": "python",
   "pygments_lexer": "ipython3",
   "version": "3.8.5"
  }
 },
 "nbformat": 4,
 "nbformat_minor": 2
}
