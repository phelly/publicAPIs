{
 "cells": [
  {
   "cell_type": "code",
   "execution_count": 1,
   "metadata": {},
   "outputs": [],
   "source": [
    "import pandas as pd\n",
    "import numpy as np\n",
    "import seaborn as sns\n",
    "import matplotlib.pyplot as plt\n",
    "%matplotlib inline\n",
    "import pandas_profiling \n",
    "from pandas_profiling import ProfileReport as pp\n"
   ]
  },
  {
   "cell_type": "code",
   "execution_count": 5,
   "metadata": {},
   "outputs": [
    {
     "name": "stdout",
     "output_type": "stream",
     "text": [
      "<class 'pandas.core.frame.DataFrame'>\n",
      "RangeIndex: 4809 entries, 0 to 4808\n",
      "Data columns (total 23 columns):\n",
      " #   Column                 Non-Null Count  Dtype  \n",
      "---  ------                 --------------  -----  \n",
      " 0   ID                     4809 non-null   object \n",
      " 1   country                4809 non-null   object \n",
      " 2   age_group              4809 non-null   object \n",
      " 3   travel_with            3695 non-null   object \n",
      " 4   total_female           4806 non-null   float64\n",
      " 5   total_male             4804 non-null   float64\n",
      " 6   purpose                4809 non-null   object \n",
      " 7   main_activity          4809 non-null   object \n",
      " 8   info_source            4809 non-null   object \n",
      " 9   tour_arrangement       4809 non-null   object \n",
      " 10  package_transport_int  4809 non-null   object \n",
      " 11  package_accomodation   4809 non-null   object \n",
      " 12  package_food           4809 non-null   object \n",
      " 13  package_transport_tz   4809 non-null   object \n",
      " 14  package_sightseeing    4809 non-null   object \n",
      " 15  package_guided_tour    4809 non-null   object \n",
      " 16  package_insurance      4809 non-null   object \n",
      " 17  night_mainland         4809 non-null   float64\n",
      " 18  night_zanzibar         4809 non-null   float64\n",
      " 19  payment_mode           4809 non-null   object \n",
      " 20  first_trip_tz          4809 non-null   object \n",
      " 21  most_impressing        4496 non-null   object \n",
      " 22  total_cost             4809 non-null   float64\n",
      "dtypes: float64(5), object(18)\n",
      "memory usage: 864.2+ KB\n"
     ]
    }
   ],
   "source": [
    "#importing datasets\n",
    "train_df = pd.read_csv(\"Train.csv\")\n",
    "train_df.info()"
   ]
  },
  {
   "cell_type": "code",
   "execution_count": 4,
   "metadata": {},
   "outputs": [
    {
     "name": "stdout",
     "output_type": "stream",
     "text": [
      "<class 'pandas.core.frame.DataFrame'>\n",
      "RangeIndex: 1601 entries, 0 to 1600\n",
      "Data columns (total 22 columns):\n",
      " #   Column                 Non-Null Count  Dtype  \n",
      "---  ------                 --------------  -----  \n",
      " 0   ID                     1601 non-null   object \n",
      " 1   country                1601 non-null   object \n",
      " 2   age_group              1601 non-null   object \n",
      " 3   travel_with            1274 non-null   object \n",
      " 4   total_female           1600 non-null   float64\n",
      " 5   total_male             1599 non-null   float64\n",
      " 6   purpose                1601 non-null   object \n",
      " 7   main_activity          1601 non-null   object \n",
      " 8   info_source            1601 non-null   object \n",
      " 9   tour_arrangement       1601 non-null   object \n",
      " 10  package_transport_int  1601 non-null   object \n",
      " 11  package_accomodation   1601 non-null   object \n",
      " 12  package_food           1601 non-null   object \n",
      " 13  package_transport_tz   1601 non-null   object \n",
      " 14  package_sightseeing    1601 non-null   object \n",
      " 15  package_guided_tour    1601 non-null   object \n",
      " 16  package_insurance      1601 non-null   object \n",
      " 17  night_mainland         1601 non-null   int64  \n",
      " 18  night_zanzibar         1601 non-null   int64  \n",
      " 19  payment_mode           1601 non-null   object \n",
      " 20  first_trip_tz          1601 non-null   object \n",
      " 21  most_impressing        1490 non-null   object \n",
      "dtypes: float64(2), int64(2), object(18)\n",
      "memory usage: 275.3+ KB\n"
     ]
    }
   ],
   "source": [
    "#test data\n",
    "test_df = pd.read_csv('Test.csv')\n",
    "test_df.info()"
   ]
  },
  {
   "cell_type": "code",
   "execution_count": null,
   "metadata": {},
   "outputs": [],
   "source": []
  }
 ],
 "metadata": {
  "kernelspec": {
   "display_name": "Python 3",
   "language": "python",
   "name": "python3"
  },
  "language_info": {
   "codemirror_mode": {
    "name": "ipython",
    "version": 3
   },
   "file_extension": ".py",
   "mimetype": "text/x-python",
   "name": "python",
   "nbconvert_exporter": "python",
   "pygments_lexer": "ipython3",
   "version": "3.8.5"
  }
 },
 "nbformat": 4,
 "nbformat_minor": 4
}
